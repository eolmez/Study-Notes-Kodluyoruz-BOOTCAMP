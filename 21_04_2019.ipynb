{
  "nbformat": 4,
  "nbformat_minor": 0,
  "metadata": {
    "colab": {
      "name": "21/04/2019.ipynb",
      "version": "0.3.2",
      "provenance": [],
      "collapsed_sections": [],
      "include_colab_link": true
    },
    "kernelspec": {
      "name": "python3",
      "display_name": "Python 3"
    }
  },
  "cells": [
    {
      "cell_type": "markdown",
      "metadata": {
        "id": "view-in-github",
        "colab_type": "text"
      },
      "source": [
        "<a href=\"https://colab.research.google.com/github/eolmez91/Study-Notes-Kodluyoruz-BOOTCAMP/blob/master/21_04_2019.ipynb\" target=\"_parent\"><img src=\"https://colab.research.google.com/assets/colab-badge.svg\" alt=\"Open In Colab\"/></a>"
      ]
    },
    {
      "cell_type": "code",
      "metadata": {
        "id": "Zdez6lwzwJeu",
        "colab_type": "code",
        "colab": {}
      },
      "source": [
        "listemiz = [3, 3, 1]"
      ],
      "execution_count": 0,
      "outputs": []
    },
    {
      "cell_type": "code",
      "metadata": {
        "id": "pU_j0sXA7MLC",
        "colab_type": "code",
        "outputId": "510fa4ef-e804-47f4-dacd-669496962ac5",
        "colab": {
          "base_uri": "https://localhost:8080/",
          "height": 34
        }
      },
      "source": [
        "ek_liste = [1, 11, 111, 1111]\n",
        "listemiz.extend(ek_liste)\n",
        "listemiz"
      ],
      "execution_count": 0,
      "outputs": [
        {
          "output_type": "execute_result",
          "data": {
            "text/plain": [
              "[3, 3, 1, 1, 11, 111, 1111]"
            ]
          },
          "metadata": {
            "tags": []
          },
          "execution_count": 2
        }
      ]
    },
    {
      "cell_type": "code",
      "metadata": {
        "id": "KF0uqNTJ7Vpr",
        "colab_type": "code",
        "outputId": "61f2117b-c9f1-497a-f3ac-45a7bce6b6c1",
        "colab": {
          "base_uri": "https://localhost:8080/",
          "height": 34
        }
      },
      "source": [
        "yeni_liste = listemiz.copy()\n",
        "yeni_liste"
      ],
      "execution_count": 0,
      "outputs": [
        {
          "output_type": "execute_result",
          "data": {
            "text/plain": [
              "[3, 3, 1, 1, 11, 111, 1111]"
            ]
          },
          "metadata": {
            "tags": []
          },
          "execution_count": 3
        }
      ]
    },
    {
      "cell_type": "code",
      "metadata": {
        "id": "NMaxq2gR7b_2",
        "colab_type": "code",
        "outputId": "54636140-acb7-4808-d151-b895d185fa2b",
        "colab": {
          "base_uri": "https://localhost:8080/",
          "height": 34
        }
      },
      "source": [
        "yeni_liste.insert(5, 555) #5. indise 555 ekle\n",
        "yeni_liste"
      ],
      "execution_count": 0,
      "outputs": [
        {
          "output_type": "execute_result",
          "data": {
            "text/plain": [
              "[3, 3, 1, 1, 11, 555, 111, 1111]"
            ]
          },
          "metadata": {
            "tags": []
          },
          "execution_count": 4
        }
      ]
    },
    {
      "cell_type": "code",
      "metadata": {
        "id": "u6Uwa6aA7ksG",
        "colab_type": "code",
        "outputId": "7cf39ab4-d920-4534-c6b2-f831d2f3faad",
        "colab": {
          "base_uri": "https://localhost:8080/",
          "height": 34
        }
      },
      "source": [
        "yeni_liste.clear()\n",
        "yeni_liste"
      ],
      "execution_count": 0,
      "outputs": [
        {
          "output_type": "execute_result",
          "data": {
            "text/plain": [
              "[]"
            ]
          },
          "metadata": {
            "tags": []
          },
          "execution_count": 6
        }
      ]
    },
    {
      "cell_type": "code",
      "metadata": {
        "id": "QnMDz47O-Zii",
        "colab_type": "code",
        "outputId": "b2e14578-1825-4f5a-ed18-b5a812b44967",
        "colab": {
          "base_uri": "https://localhost:8080/",
          "height": 50
        }
      },
      "source": [
        "liste56 = [1, 2, 3]\n",
        "\n",
        "print(liste56)\n",
        "\n",
        "liste56 = []\n",
        "\n",
        "print(liste56)"
      ],
      "execution_count": 0,
      "outputs": [
        {
          "output_type": "stream",
          "text": [
            "[1, 2, 3]\n",
            "[]\n"
          ],
          "name": "stdout"
        }
      ]
    },
    {
      "cell_type": "code",
      "metadata": {
        "id": "ryGkw3qG_1Ec",
        "colab_type": "code",
        "colab": {}
      },
      "source": [
        "sayilar = list(range(5))"
      ],
      "execution_count": 0,
      "outputs": []
    },
    {
      "cell_type": "code",
      "metadata": {
        "id": "w3IlUOOYADx6",
        "colab_type": "code",
        "outputId": "dbfb9758-f36f-4c9f-9eb1-1e5d9b121552",
        "colab": {
          "base_uri": "https://localhost:8080/",
          "height": 34
        }
      },
      "source": [
        "print(sayilar)"
      ],
      "execution_count": 0,
      "outputs": [
        {
          "output_type": "stream",
          "text": [
            "[0, 1, 2, 3, 4]\n"
          ],
          "name": "stdout"
        }
      ]
    },
    {
      "cell_type": "code",
      "metadata": {
        "id": "vKVFstloAJfS",
        "colab_type": "code",
        "outputId": "f395b5a8-2038-417b-e9ae-3fcea244abe7",
        "colab": {
          "base_uri": "https://localhost:8080/",
          "height": 34
        }
      },
      "source": [
        "print(sayilar[2:4])"
      ],
      "execution_count": 0,
      "outputs": [
        {
          "output_type": "stream",
          "text": [
            "[2, 3]\n"
          ],
          "name": "stdout"
        }
      ]
    },
    {
      "cell_type": "code",
      "metadata": {
        "id": "P6L63OZWANBa",
        "colab_type": "code",
        "outputId": "45b13c9d-7aa5-4dcd-e64b-9df24ddbdab7",
        "colab": {
          "base_uri": "https://localhost:8080/",
          "height": 34
        }
      },
      "source": [
        "print(sayilar[2:])"
      ],
      "execution_count": 0,
      "outputs": [
        {
          "output_type": "stream",
          "text": [
            "[2, 3, 4]\n"
          ],
          "name": "stdout"
        }
      ]
    },
    {
      "cell_type": "code",
      "metadata": {
        "id": "47Do9VFmATmN",
        "colab_type": "code",
        "outputId": "093950c2-2e45-448c-bd00-5a0d26c95fb2",
        "colab": {
          "base_uri": "https://localhost:8080/",
          "height": 34
        }
      },
      "source": [
        "print(sayilar[:2])"
      ],
      "execution_count": 0,
      "outputs": [
        {
          "output_type": "stream",
          "text": [
            "[0, 1]\n"
          ],
          "name": "stdout"
        }
      ]
    },
    {
      "cell_type": "code",
      "metadata": {
        "id": "jyeWefAnAY7O",
        "colab_type": "code",
        "outputId": "3cb09173-215c-4400-dd66-f8d1c8f8d8ab",
        "colab": {
          "base_uri": "https://localhost:8080/",
          "height": 34
        }
      },
      "source": [
        "print(sayilar[:])"
      ],
      "execution_count": 0,
      "outputs": [
        {
          "output_type": "stream",
          "text": [
            "[0, 1, 2, 3, 4]\n"
          ],
          "name": "stdout"
        }
      ]
    },
    {
      "cell_type": "code",
      "metadata": {
        "id": "riCdPsQtAdbG",
        "colab_type": "code",
        "outputId": "9b302da2-0a6a-43c5-c3a4-26248d4b3534",
        "colab": {
          "base_uri": "https://localhost:8080/",
          "height": 34
        }
      },
      "source": [
        "print(sayilar[:-1])"
      ],
      "execution_count": 0,
      "outputs": [
        {
          "output_type": "stream",
          "text": [
            "[0, 1, 2, 3]\n"
          ],
          "name": "stdout"
        }
      ]
    },
    {
      "cell_type": "code",
      "metadata": {
        "id": "rjIqiQCIAn_h",
        "colab_type": "code",
        "outputId": "493be0e9-d455-40b4-fe3a-98ebd1828684",
        "colab": {
          "base_uri": "https://localhost:8080/",
          "height": 34
        }
      },
      "source": [
        "sayilar[2:4] = [8, 9]\n",
        "print(sayilar)"
      ],
      "execution_count": 0,
      "outputs": [
        {
          "output_type": "stream",
          "text": [
            "[0, 1, 8, 9, 4]\n"
          ],
          "name": "stdout"
        }
      ]
    },
    {
      "cell_type": "code",
      "metadata": {
        "id": "-hv75pqFA8lR",
        "colab_type": "code",
        "outputId": "b5947c4c-1655-4562-c40b-8f878192bd6b",
        "colab": {
          "base_uri": "https://localhost:8080/",
          "height": 34
        }
      },
      "source": [
        "\"\"\"For Döngüsü Loop\"\"\""
      ],
      "execution_count": 0,
      "outputs": [
        {
          "output_type": "execute_result",
          "data": {
            "text/plain": [
              "'For Döngüsü Loop'"
            ]
          },
          "metadata": {
            "tags": []
          },
          "execution_count": 16
        }
      ]
    },
    {
      "cell_type": "code",
      "metadata": {
        "id": "z6xj88r9BswG",
        "colab_type": "code",
        "colab": {}
      },
      "source": [
        "iller = ['istanbul', 'ankara', 'izmir', 'malatya']"
      ],
      "execution_count": 0,
      "outputs": []
    },
    {
      "cell_type": "code",
      "metadata": {
        "id": "0NjpZIzxB3d6",
        "colab_type": "code",
        "outputId": "448a1d04-306c-43a2-fe88-6df75f131042",
        "colab": {
          "base_uri": "https://localhost:8080/",
          "height": 84
        }
      },
      "source": [
        "for il in iller:\n",
        "  print(il)"
      ],
      "execution_count": 0,
      "outputs": [
        {
          "output_type": "stream",
          "text": [
            "istanbul\n",
            "ankara\n",
            "izmir\n",
            "malatya\n"
          ],
          "name": "stdout"
        }
      ]
    },
    {
      "cell_type": "code",
      "metadata": {
        "id": "RcjGIreeCciF",
        "colab_type": "code",
        "colab": {}
      },
      "source": [
        "iller = ['İstanbul', 'Ankara', 'İzmir', 'Erzurum']"
      ],
      "execution_count": 0,
      "outputs": []
    },
    {
      "cell_type": "code",
      "metadata": {
        "id": "QBe7t1hUFUwr",
        "colab_type": "code",
        "outputId": "f311ea87-3266-48aa-d6a0-033f9f2e88c4",
        "colab": {
          "base_uri": "https://localhost:8080/",
          "height": 84
        }
      },
      "source": [
        "for sira, il in enumerate(iller):\n",
        "  print('%d: %s' % (sira + 1, il)) #önce index döner sonra index döner"
      ],
      "execution_count": 0,
      "outputs": [
        {
          "output_type": "stream",
          "text": [
            "1: İstanbul\n",
            "2: Ankara\n",
            "3: İzmir\n",
            "4: Erzurum\n"
          ],
          "name": "stdout"
        }
      ]
    },
    {
      "cell_type": "code",
      "metadata": {
        "id": "BaIio3fYFwWT",
        "colab_type": "code",
        "outputId": "298e99dc-dcd7-4dcd-a59f-ec99c1ab213b",
        "colab": {
          "base_uri": "https://localhost:8080/",
          "height": 202
        }
      },
      "source": [
        "for sayi in range(11):\n",
        "  print(sayi)"
      ],
      "execution_count": 0,
      "outputs": [
        {
          "output_type": "stream",
          "text": [
            "0\n",
            "1\n",
            "2\n",
            "3\n",
            "4\n",
            "5\n",
            "6\n",
            "7\n",
            "8\n",
            "9\n",
            "10\n"
          ],
          "name": "stdout"
        }
      ]
    },
    {
      "cell_type": "code",
      "metadata": {
        "colab_type": "code",
        "outputId": "1adc5909-feac-4529-96e8-f3f55695f042",
        "id": "FoCXzPZ9HnCb",
        "colab": {
          "base_uri": "https://localhost:8080/",
          "height": 185
        }
      },
      "source": [
        "for sayi in range(1,11):\n",
        "  print(sayi)"
      ],
      "execution_count": 0,
      "outputs": [
        {
          "output_type": "stream",
          "text": [
            "1\n",
            "2\n",
            "3\n",
            "4\n",
            "5\n",
            "6\n",
            "7\n",
            "8\n",
            "9\n",
            "10\n"
          ],
          "name": "stdout"
        }
      ]
    },
    {
      "cell_type": "code",
      "metadata": {
        "id": "mlCf_D6GHotC",
        "colab_type": "code",
        "outputId": "519ad7e0-a502-4de0-91a6-b13319427bdc",
        "colab": {
          "base_uri": "https://localhost:8080/",
          "height": 185
        }
      },
      "source": [
        "for harf in 'Yapay Zeka':\n",
        "  print(harf)"
      ],
      "execution_count": 0,
      "outputs": [
        {
          "output_type": "stream",
          "text": [
            "Y\n",
            "a\n",
            "p\n",
            "a\n",
            "y\n",
            " \n",
            "Z\n",
            "e\n",
            "k\n",
            "a\n"
          ],
          "name": "stdout"
        }
      ]
    },
    {
      "cell_type": "code",
      "metadata": {
        "id": "KBypYK4bH9T2",
        "colab_type": "code",
        "outputId": "e3d38370-5013-4cd1-e206-6c3fa02a5507",
        "colab": {
          "base_uri": "https://localhost:8080/",
          "height": 50
        }
      },
      "source": [
        "for kelime in \"Yapay Zeka\".split():\n",
        "  print(kelime)"
      ],
      "execution_count": 0,
      "outputs": [
        {
          "output_type": "stream",
          "text": [
            "Yapay\n",
            "Zeka\n"
          ],
          "name": "stdout"
        }
      ]
    },
    {
      "cell_type": "code",
      "metadata": {
        "id": "jOKxWEbaI9wj",
        "colab_type": "code",
        "outputId": "d9a59673-c18d-4d85-ef24-91789be41f27",
        "colab": {
          "base_uri": "https://localhost:8080/",
          "height": 50
        }
      },
      "source": [
        "rakamlar = [0, 1, 2, 3, 4, 5, 6]\n",
        "\n",
        "kareler = []\n",
        "\n",
        "for i in rakamlar:\n",
        "  i = i **2\n",
        "  kareler.append(i)\n",
        "\n",
        "  \n",
        "print(rakamlar)\n",
        "print(kareler)"
      ],
      "execution_count": 0,
      "outputs": [
        {
          "output_type": "stream",
          "text": [
            "[0, 1, 2, 3, 4, 5, 6]\n",
            "[0, 1, 4, 9, 16, 25, 36]\n"
          ],
          "name": "stdout"
        }
      ]
    },
    {
      "cell_type": "code",
      "metadata": {
        "id": "YBY0hwweKlHD",
        "colab_type": "code",
        "outputId": "95fea317-2e79-4d74-f214-7df050cc6303",
        "colab": {
          "base_uri": "https://localhost:8080/",
          "height": 34
        }
      },
      "source": [
        "rakamlar = [0, 1, 2, 3, 4, 5, 6]\n",
        "kareler = []\n",
        "\n",
        "for i in rakamlar:\n",
        "    kareler.append(i**2)\n",
        "    \n",
        "print(kareler)"
      ],
      "execution_count": 0,
      "outputs": [
        {
          "output_type": "stream",
          "text": [
            "[0, 1, 4, 9, 16, 25, 36]\n"
          ],
          "name": "stdout"
        }
      ]
    },
    {
      "cell_type": "code",
      "metadata": {
        "id": "MJd7UysgvdHf",
        "colab_type": "code",
        "outputId": "57100c9c-4852-4163-e688-f824e113706b",
        "colab": {
          "base_uri": "https://localhost:8080/",
          "height": 34
        }
      },
      "source": [
        "rakamlar = [0, 1, 2, 3, 4, 5, 6]\n",
        "kareler = [rakam **2 for rakam in rakamlar]\n",
        "\n",
        "print(kareler)"
      ],
      "execution_count": 0,
      "outputs": [
        {
          "output_type": "stream",
          "text": [
            "[0, 1, 4, 9, 16, 25, 36]\n"
          ],
          "name": "stdout"
        }
      ]
    },
    {
      "cell_type": "code",
      "metadata": {
        "id": "MFFRdWvwv3j4",
        "colab_type": "code",
        "colab": {}
      },
      "source": [
        "rakamlar = [0, 1, 2, 3, 4, 5, 6, 7]"
      ],
      "execution_count": 0,
      "outputs": []
    },
    {
      "cell_type": "code",
      "metadata": {
        "id": "sXleIAB0wmr_",
        "colab_type": "code",
        "colab": {}
      },
      "source": [
        "cift_kareler = [rakam ** 2 for rakam in rakamlar if rakam %2 == 0]"
      ],
      "execution_count": 0,
      "outputs": []
    },
    {
      "cell_type": "code",
      "metadata": {
        "id": "6uBmSa65wv-3",
        "colab_type": "code",
        "colab": {}
      },
      "source": [
        "tek_kareler = [rakam ** 2 for rakam in rakamlar if rakam % 2 == 1]"
      ],
      "execution_count": 0,
      "outputs": []
    },
    {
      "cell_type": "code",
      "metadata": {
        "id": "v9DZBTzaw3tc",
        "colab_type": "code",
        "outputId": "b77d0c84-1662-4819-85ad-2d919c033278",
        "colab": {
          "base_uri": "https://localhost:8080/",
          "height": 50
        }
      },
      "source": [
        "print(cift_kareler)\n",
        "print(tek_kareler)"
      ],
      "execution_count": 0,
      "outputs": [
        {
          "output_type": "stream",
          "text": [
            "[0, 4, 16, 36]\n",
            "[1, 9, 25, 49]\n"
          ],
          "name": "stdout"
        }
      ]
    },
    {
      "cell_type": "code",
      "metadata": {
        "id": "oAa1lxRexAk-",
        "colab_type": "code",
        "outputId": "7f78370e-5f66-4914-9104-caad3cc1efb1",
        "colab": {
          "base_uri": "https://localhost:8080/",
          "height": 34
        }
      },
      "source": [
        "yeni_liste = [rakam ** 2 for rakam in rakamlar if rakam % 2 == 0 and rakam % 3 == 0 and not rakam == 0]\n",
        "print(yeni_liste)"
      ],
      "execution_count": 0,
      "outputs": [
        {
          "output_type": "stream",
          "text": [
            "[36]\n"
          ],
          "name": "stdout"
        }
      ]
    },
    {
      "cell_type": "code",
      "metadata": {
        "id": "dkGoW1EvxVGS",
        "colab_type": "code",
        "outputId": "47cd8388-fc56-44c8-f2ac-f15556d9179f",
        "colab": {
          "base_uri": "https://localhost:8080/",
          "height": 34
        }
      },
      "source": [
        "liste = [2,3,4,5,7,8,9]\n",
        "toplam = 0\n",
        "\n",
        "for i in liste:\n",
        "  toplam += i\n",
        "print(toplam)"
      ],
      "execution_count": 0,
      "outputs": [
        {
          "output_type": "stream",
          "text": [
            "38\n"
          ],
          "name": "stdout"
        }
      ]
    },
    {
      "cell_type": "code",
      "metadata": {
        "id": "7s5AnB1Y1a_W",
        "colab_type": "code",
        "outputId": "f55384b7-9202-4f36-c287-9f1519be4a42",
        "colab": {
          "base_uri": "https://localhost:8080/",
          "height": 34
        }
      },
      "source": [
        "sum(liste)"
      ],
      "execution_count": 0,
      "outputs": [
        {
          "output_type": "execute_result",
          "data": {
            "text/plain": [
              "38"
            ]
          },
          "metadata": {
            "tags": []
          },
          "execution_count": 58
        }
      ]
    },
    {
      "cell_type": "code",
      "metadata": {
        "id": "4xfe__GW4E7g",
        "colab_type": "code",
        "outputId": "a242ea09-54a2-48fd-80f5-bab3251e4ecd",
        "colab": {
          "base_uri": "https://localhost:8080/",
          "height": 34
        }
      },
      "source": [
        "en_buyuk = liste[0]\n",
        "\n",
        "for i in liste:\n",
        "  if i > en_buyuk:\n",
        "    en_buyuk = i\n",
        "    \n",
        "print(en_buyuk)"
      ],
      "execution_count": 0,
      "outputs": [
        {
          "output_type": "stream",
          "text": [
            "9\n"
          ],
          "name": "stdout"
        }
      ]
    },
    {
      "cell_type": "code",
      "metadata": {
        "id": "D5rxeMVJ4_wE",
        "colab_type": "code",
        "outputId": "cb0d1d5d-4419-4d88-a6de-a66e43278911",
        "colab": {
          "base_uri": "https://localhost:8080/",
          "height": 34
        }
      },
      "source": [
        "isim_yas = [[\"Ayşe\", 25], [\"Ayşe\", 25]]\n",
        "isim_yas[0][0]"
      ],
      "execution_count": 0,
      "outputs": [
        {
          "output_type": "execute_result",
          "data": {
            "text/plain": [
              "'Ayşse'"
            ]
          },
          "metadata": {
            "tags": []
          },
          "execution_count": 60
        }
      ]
    },
    {
      "cell_type": "code",
      "metadata": {
        "id": "riLrHCKb7CGO",
        "colab_type": "code",
        "outputId": "9b955b31-c521-4921-db8c-62819154e78d",
        "colab": {
          "base_uri": "https://localhost:8080/",
          "height": 34
        }
      },
      "source": [
        "\"\"\"Sözlük (Dictionary)\"\"\""
      ],
      "execution_count": 0,
      "outputs": [
        {
          "output_type": "execute_result",
          "data": {
            "text/plain": [
              "'Sözlük (Dictionary)'"
            ]
          },
          "metadata": {
            "tags": []
          },
          "execution_count": 61
        }
      ]
    },
    {
      "cell_type": "code",
      "metadata": {
        "id": "UvX80ttZ7U7E",
        "colab_type": "code",
        "outputId": "618deb51-9c87-4cc2-9f8d-9f34e6c41a87",
        "colab": {
          "base_uri": "https://localhost:8080/",
          "height": 67
        }
      },
      "source": [
        "meshur = {'Kayseri':'Mantı', 'Amasya':'Elma', 'Malatya':'Kayısı'}\n",
        "\n",
        "print(*meshur.keys())\n",
        "print(*meshur.values())\n",
        "print(*meshur.items())"
      ],
      "execution_count": 0,
      "outputs": [
        {
          "output_type": "stream",
          "text": [
            "Kayseri Amasya Malatya\n",
            "Mantı Elma Kayısı\n",
            "('Kayseri', 'Mantı') ('Amasya', 'Elma') ('Malatya', 'Kayısı')\n"
          ],
          "name": "stdout"
        }
      ]
    },
    {
      "cell_type": "code",
      "metadata": {
        "id": "Kn9Uybce8aNf",
        "colab_type": "code",
        "outputId": "4235742f-1df6-4736-cdd4-66745dd77359",
        "colab": {
          "base_uri": "https://localhost:8080/",
          "height": 34
        }
      },
      "source": [
        "print (meshur['Malatya']) #Malatya anahtar değerine ait değer ekrana yazıdılır."
      ],
      "execution_count": 0,
      "outputs": [
        {
          "output_type": "stream",
          "text": [
            "Kayısı\n"
          ],
          "name": "stdout"
        }
      ]
    },
    {
      "cell_type": "code",
      "metadata": {
        "id": "s0Uo3uZa9FWq",
        "colab_type": "code",
        "colab": {}
      },
      "source": [
        "meshur['İstanbul'] = 'Trafik' # Sözlüğe yeni bir girdi ekleme."
      ],
      "execution_count": 0,
      "outputs": []
    },
    {
      "cell_type": "code",
      "metadata": {
        "id": "tpwXIiPd9O_B",
        "colab_type": "code",
        "outputId": "8d53848c-18fc-4817-ce93-e8364122ff9f",
        "colab": {
          "base_uri": "https://localhost:8080/",
          "height": 34
        }
      },
      "source": [
        "print(meshur)"
      ],
      "execution_count": 0,
      "outputs": [
        {
          "output_type": "stream",
          "text": [
            "{'Kayseri': 'Mantı', 'Amasya': 'Elma', 'Malatya': 'Kayısı', 'İstanbul': 'Trafik'}\n"
          ],
          "name": "stdout"
        }
      ]
    },
    {
      "cell_type": "code",
      "metadata": {
        "id": "ETDAAIH99QOV",
        "colab_type": "code",
        "outputId": "8a7d923d-8673-448e-f124-70a06977aec6",
        "colab": {
          "base_uri": "https://localhost:8080/",
          "height": 162
        }
      },
      "source": [
        "print(meshur['Ankara']) # ERROR verir!"
      ],
      "execution_count": 0,
      "outputs": [
        {
          "output_type": "error",
          "ename": "KeyError",
          "evalue": "ignored",
          "traceback": [
            "\u001b[0;31m---------------------------------------------------------------------------\u001b[0m",
            "\u001b[0;31mKeyError\u001b[0m                                  Traceback (most recent call last)",
            "\u001b[0;32m<ipython-input-77-d41894081080>\u001b[0m in \u001b[0;36m<module>\u001b[0;34m()\u001b[0m\n\u001b[0;32m----> 1\u001b[0;31m \u001b[0mprint\u001b[0m\u001b[0;34m(\u001b[0m\u001b[0mmeshur\u001b[0m\u001b[0;34m[\u001b[0m\u001b[0;34m'Ankara'\u001b[0m\u001b[0;34m]\u001b[0m\u001b[0;34m)\u001b[0m \u001b[0;31m# ERROR verir!\u001b[0m\u001b[0;34m\u001b[0m\u001b[0;34m\u001b[0m\u001b[0m\n\u001b[0m",
            "\u001b[0;31mKeyError\u001b[0m: 'Ankara'"
          ]
        }
      ]
    },
    {
      "cell_type": "code",
      "metadata": {
        "id": "B43pAvYl_M2S",
        "colab_type": "code",
        "outputId": "4f1b7e54-31cb-4ace-9b7b-b0bad936cc3f",
        "colab": {
          "base_uri": "https://localhost:8080/",
          "height": 50
        }
      },
      "source": [
        "print(meshur.get('Ankara', 'N/A')) # Değer yoksa N/A döndürür.\n",
        "print(meshur.get('Amasya', 'N/A')) # Değer varsa 'Elma' döndürür."
      ],
      "execution_count": 0,
      "outputs": [
        {
          "output_type": "stream",
          "text": [
            "N/A\n",
            "Elma\n"
          ],
          "name": "stdout"
        }
      ]
    },
    {
      "cell_type": "code",
      "metadata": {
        "id": "II4mDVsA_sCr",
        "colab_type": "code",
        "outputId": "1d300522-c58a-4d51-be77-164b1467ef97",
        "colab": {
          "base_uri": "https://localhost:8080/",
          "height": 34
        }
      },
      "source": [
        "del meshur['Amasya']     #Sözlükten değer silme.\n",
        "print(meshur.get('Amasya', 'N/A'))"
      ],
      "execution_count": 0,
      "outputs": [
        {
          "output_type": "stream",
          "text": [
            "N/A\n"
          ],
          "name": "stdout"
        }
      ]
    },
    {
      "cell_type": "code",
      "metadata": {
        "id": "D56K0-GsAFdA",
        "colab_type": "code",
        "outputId": "2b67f016-7439-4e2d-99e0-3ad6a57cc23a",
        "colab": {
          "base_uri": "https://localhost:8080/",
          "height": 67
        }
      },
      "source": [
        "canlilar = {'İnsan':2, 'Kedi':4, 'Örümcek':8}\n",
        "\n",
        "for canli in canlilar:\n",
        "  ayak = canlilar[canli]\n",
        "  print('%s, %d ayağa sahiptir.' % (canli, ayak))"
      ],
      "execution_count": 0,
      "outputs": [
        {
          "output_type": "stream",
          "text": [
            "İnsan, 2 ayağa sahiptir.\n",
            "Kedi, 4 ayağa sahiptir.\n",
            "Örümcek, 8 ayağa sahiptir.\n"
          ],
          "name": "stdout"
        }
      ]
    },
    {
      "cell_type": "code",
      "metadata": {
        "id": "LV3l5NJqCyq3",
        "colab_type": "code",
        "outputId": "305dc60b-3332-46b5-e14a-2f7e66a03a1a",
        "colab": {
          "base_uri": "https://localhost:8080/",
          "height": 67
        }
      },
      "source": [
        "for canli, ayak in canlilar.items():\n",
        "  print ('%s, %d ayağa sahiptir.' % (canli, ayak))"
      ],
      "execution_count": 0,
      "outputs": [
        {
          "output_type": "stream",
          "text": [
            "İnsan, 2 ayağa sahiptir.\n",
            "Kedi, 4 ayağa sahiptir.\n",
            "Örümcek, 8 ayağa sahiptir.\n"
          ],
          "name": "stdout"
        }
      ]
    },
    {
      "cell_type": "code",
      "metadata": {
        "id": "ZZDi6LA8Dkyq",
        "colab_type": "code",
        "outputId": "6df274d7-7950-4cfa-b7af-aeda3f16efd5",
        "colab": {
          "base_uri": "https://localhost:8080/",
          "height": 67
        }
      },
      "source": [
        "for canli in canlilar.keys():\n",
        "  print(canli)"
      ],
      "execution_count": 0,
      "outputs": [
        {
          "output_type": "stream",
          "text": [
            "İnsan\n",
            "Kedi\n",
            "Örümcek\n"
          ],
          "name": "stdout"
        }
      ]
    },
    {
      "cell_type": "code",
      "metadata": {
        "id": "CKpCiNjXDyDC",
        "colab_type": "code",
        "colab": {}
      },
      "source": [
        ""
      ],
      "execution_count": 0,
      "outputs": []
    }
  ]
}