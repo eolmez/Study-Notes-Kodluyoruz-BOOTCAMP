{
  "nbformat": 4,
  "nbformat_minor": 0,
  "metadata": {
    "colab": {
      "name": "09/06/2019.ipynb",
      "version": "0.3.2",
      "provenance": [],
      "collapsed_sections": [],
      "include_colab_link": true
    },
    "kernelspec": {
      "name": "python3",
      "display_name": "Python 3"
    }
  },
  "cells": [
    {
      "cell_type": "markdown",
      "metadata": {
        "id": "view-in-github",
        "colab_type": "text"
      },
      "source": [
        "<a href=\"https://colab.research.google.com/github/eolmez91/Study-Notes-Kodluyoruz-BOOTCAMP/blob/master/09_06_2019.ipynb\" target=\"_parent\"><img src=\"https://colab.research.google.com/assets/colab-badge.svg\" alt=\"Open In Colab\"/></a>"
      ]
    },
    {
      "cell_type": "code",
      "metadata": {
        "id": "vLJdtKqLV0Iy",
        "colab_type": "code",
        "outputId": "df3b6a0a-a08b-4f50-f5b4-288e2ceaf545",
        "colab": {
          "base_uri": "https://localhost:8080/",
          "height": 121
        }
      },
      "source": [
        "from google.colab import drive\n",
        "drive.mount('/content/drive/')"
      ],
      "execution_count": 0,
      "outputs": [
        {
          "output_type": "stream",
          "text": [
            "Go to this URL in a browser: https://accounts.google.com/o/oauth2/auth?client_id=947318989803-6bn6qk8qdgf4n4g3pfee6491hc0brc4i.apps.googleusercontent.com&redirect_uri=urn%3Aietf%3Awg%3Aoauth%3A2.0%3Aoob&scope=email%20https%3A%2F%2Fwww.googleapis.com%2Fauth%2Fdocs.test%20https%3A%2F%2Fwww.googleapis.com%2Fauth%2Fdrive%20https%3A%2F%2Fwww.googleapis.com%2Fauth%2Fdrive.photos.readonly%20https%3A%2F%2Fwww.googleapis.com%2Fauth%2Fpeopleapi.readonly&response_type=code\n",
            "\n",
            "Enter your authorization code:\n",
            "··········\n",
            "Mounted at /content/drive/\n"
          ],
          "name": "stdout"
        }
      ]
    },
    {
      "cell_type": "code",
      "metadata": {
        "id": "AzDRIQooW4hs",
        "colab_type": "code",
        "outputId": "af91698a-1bf1-4bd7-e63a-79df1a57ff61",
        "colab": {
          "base_uri": "https://localhost:8080/",
          "height": 34
        }
      },
      "source": [
        "!pwd"
      ],
      "execution_count": 0,
      "outputs": [
        {
          "output_type": "stream",
          "text": [
            "/content\n"
          ],
          "name": "stdout"
        }
      ]
    },
    {
      "cell_type": "code",
      "metadata": {
        "id": "sCIvaKH6XPI_",
        "colab_type": "code",
        "outputId": "0fea7789-ea8c-4a89-d69a-b7fac93cca67",
        "colab": {
          "base_uri": "https://localhost:8080/",
          "height": 34
        }
      },
      "source": [
        "!ls\n"
      ],
      "execution_count": 0,
      "outputs": [
        {
          "output_type": "stream",
          "text": [
            "drive  sample_data\n"
          ],
          "name": "stdout"
        }
      ]
    },
    {
      "cell_type": "code",
      "metadata": {
        "id": "0_9CfK_qX_2z",
        "colab_type": "code",
        "colab": {}
      },
      "source": [
        "!cd \"/content/drive/My Drive/BOOTCAMP\""
      ],
      "execution_count": 0,
      "outputs": []
    },
    {
      "cell_type": "code",
      "metadata": {
        "id": "ZhxrOqlBYdOw",
        "colab_type": "code",
        "outputId": "77ba795e-8822-43e3-e6ab-31ceded332d3",
        "colab": {
          "base_uri": "https://localhost:8080/",
          "height": 34
        }
      },
      "source": [
        "%cd \"/content/drive/My Drive/BOOTCAMP\""
      ],
      "execution_count": 0,
      "outputs": [
        {
          "output_type": "stream",
          "text": [
            "/content/drive/My Drive/BOOTCAMP\n"
          ],
          "name": "stdout"
        }
      ]
    },
    {
      "cell_type": "code",
      "metadata": {
        "id": "t8z5P9zKZtGk",
        "colab_type": "code",
        "outputId": "48d4c474-0a39-4444-fadb-1d2bc40fa56a",
        "colab": {
          "base_uri": "https://localhost:8080/",
          "height": 84
        }
      },
      "source": [
        "!ls"
      ],
      "execution_count": 0,
      "outputs": [
        {
          "output_type": "stream",
          "text": [
            "'05 05 2019.ipynb'  '19 05 2019.ipynb'\t exel0.xlsx   Rakam_Tanima.ipynb\n",
            "'09 06 2019.ipynb'  '21 04 2019.ipynb'\t exel.csv\n",
            "'12 05 2019.ipynb'  '26 05 2019.ipynb'\t HomeWorks\n",
            "'14 04 2019.ipynb'  '28 04 2019.ipynb'\t metin.txt\n"
          ],
          "name": "stdout"
        }
      ]
    },
    {
      "cell_type": "code",
      "metadata": {
        "id": "AawWMDOkaEG3",
        "colab_type": "code",
        "outputId": "54578859-204a-450f-d34b-50534969fca7",
        "colab": {
          "base_uri": "https://localhost:8080/",
          "height": 34
        }
      },
      "source": [
        "!pwd"
      ],
      "execution_count": 0,
      "outputs": [
        {
          "output_type": "stream",
          "text": [
            "/content/drive/My Drive/BOOTCAMP\n"
          ],
          "name": "stdout"
        }
      ]
    },
    {
      "cell_type": "code",
      "metadata": {
        "id": "x3-V7O35bNr2",
        "colab_type": "code",
        "outputId": "1707ff5b-bf9c-4293-c09c-eb3270fab476",
        "colab": {
          "base_uri": "https://localhost:8080/",
          "height": 67
        }
      },
      "source": [
        "dosya = open('metin.txt', mode ='w')\n",
        "\n",
        "print(dosya.name)\n",
        "print(dosya.mode)\n",
        "print(type(dosya.name))"
      ],
      "execution_count": 0,
      "outputs": [
        {
          "output_type": "stream",
          "text": [
            "metin.txt\n",
            "w\n",
            "<class 'str'>\n"
          ],
          "name": "stdout"
        }
      ]
    },
    {
      "cell_type": "code",
      "metadata": {
        "id": "T_6FK8Q9er2K",
        "colab_type": "code",
        "outputId": "145c749d-fb4a-4cfe-cad9-cc5746f242be",
        "colab": {
          "base_uri": "https://localhost:8080/",
          "height": 50
        }
      },
      "source": [
        "print(dosya.closed)\n",
        "\n",
        "dosya.close()\n",
        "\n",
        "print(dosya.closed)"
      ],
      "execution_count": 0,
      "outputs": [
        {
          "output_type": "stream",
          "text": [
            "False\n",
            "True\n"
          ],
          "name": "stdout"
        }
      ]
    },
    {
      "cell_type": "code",
      "metadata": {
        "id": "bcMpSBiAe__v",
        "colab_type": "code",
        "outputId": "f21e7109-8f85-4abc-a577-73f314385e04",
        "colab": {
          "base_uri": "https://localhost:8080/",
          "height": 34
        }
      },
      "source": [
        "with open('metin.txt', mode = 'r') as dosya:\n",
        "  içerik = dosya.read()\n",
        "  print(içerik)"
      ],
      "execution_count": 0,
      "outputs": [
        {
          "output_type": "stream",
          "text": [
            "Hello world!\n"
          ],
          "name": "stdout"
        }
      ]
    },
    {
      "cell_type": "code",
      "metadata": {
        "id": "-t65rJ_xf62K",
        "colab_type": "code",
        "colab": {}
      },
      "source": [
        "with open('yenidosya.txt', 'w') as dosya:\n",
        "  dosya.write(\"Bu ilk satır\\n\")\n",
        "  dosya.write(\"Bu ikinci satır\\n\")\n",
        "  dosya.write(\"Bu üçüncü satır\\n\")"
      ],
      "execution_count": 0,
      "outputs": []
    },
    {
      "cell_type": "code",
      "metadata": {
        "id": "WaKdxP9HiAa8",
        "colab_type": "code",
        "colab": {}
      },
      "source": [
        "with open('yenidosya.txt', 'a') as dosya:\n",
        "  dosya.write(\"Bu dördüncü satır\\n\")"
      ],
      "execution_count": 0,
      "outputs": []
    },
    {
      "cell_type": "code",
      "metadata": {
        "id": "SUFjoESdic47",
        "colab_type": "code",
        "outputId": "34a6ce95-be88-4b52-e96a-35c21cfeb880",
        "colab": {
          "base_uri": "https://localhost:8080/",
          "height": 101
        }
      },
      "source": [
        "with open('yenidosya.txt', mode = 'r') as dosya:\n",
        "  içerik = dosya.read()\n",
        "  print(içerik)"
      ],
      "execution_count": 0,
      "outputs": [
        {
          "output_type": "stream",
          "text": [
            "Bu ilk satır\n",
            "Bu ikinci satır\n",
            "Bu üçüncü satır\n",
            "Bu dördüncü satır\n",
            "\n"
          ],
          "name": "stdout"
        }
      ]
    },
    {
      "cell_type": "code",
      "metadata": {
        "id": "MJNpkkWGjBq1",
        "colab_type": "code",
        "outputId": "f6e98cdb-0626-4b40-de48-8c7577b23724",
        "colab": {
          "base_uri": "https://localhost:8080/",
          "height": 34
        }
      },
      "source": [
        "with open('yenidosya.txt', mode = 'r') as dosya:\n",
        "  içerik = dosya.readline(10)\n",
        "  print(içerik)"
      ],
      "execution_count": 0,
      "outputs": [
        {
          "output_type": "stream",
          "text": [
            "Bu ilk sat\n"
          ],
          "name": "stdout"
        }
      ]
    },
    {
      "cell_type": "code",
      "metadata": {
        "id": "Wp54DBssjXbe",
        "colab_type": "code",
        "outputId": "f1b17ea5-0772-470a-a10a-6fa6ad5ecb39",
        "colab": {
          "base_uri": "https://localhost:8080/",
          "height": 252
        }
      },
      "source": [
        "with open('yenidosya.txt', mode = 'r') as dosya:\n",
        "  for _ in range(0,10):\n",
        "    içerik = dosya.readline()\n",
        "    print(içerik)"
      ],
      "execution_count": 0,
      "outputs": [
        {
          "output_type": "stream",
          "text": [
            "Bu ilk satır\n",
            "\n",
            "Bu ikinci satır\n",
            "\n",
            "Bu üçüncü satır\n",
            "\n",
            "Bu dördüncü satır\n",
            "\n",
            "\n",
            "\n",
            "\n",
            "\n",
            "\n",
            "\n"
          ],
          "name": "stdout"
        }
      ]
    },
    {
      "cell_type": "code",
      "metadata": {
        "id": "sGVzHHDOjzpi",
        "colab_type": "code",
        "outputId": "9df0de67-2d78-48ea-a221-063139154885",
        "colab": {
          "base_uri": "https://localhost:8080/",
          "height": 50
        }
      },
      "source": [
        "with open('yenidosya.txt', mode = 'r') as dosya:\n",
        "  içerik = dosya.readlines()\n",
        "  print(içerik[3])"
      ],
      "execution_count": 0,
      "outputs": [
        {
          "output_type": "stream",
          "text": [
            "Bu dördüncü satır\n",
            "\n"
          ],
          "name": "stdout"
        }
      ]
    },
    {
      "cell_type": "code",
      "metadata": {
        "id": "FUDBzjRbkDD3",
        "colab_type": "code",
        "colab": {}
      },
      "source": [
        "with open('yenidosya.txt', 'r') as oku:\n",
        "  with open('yenidosya_kopya.txt', 'w') as yaz:\n",
        "    for satir in oku: yaz.write(satir)"
      ],
      "execution_count": 0,
      "outputs": []
    },
    {
      "cell_type": "code",
      "metadata": {
        "id": "A9Yqb9-8kr4g",
        "colab_type": "code",
        "colab": {}
      },
      "source": [
        "import pandas as pd\n",
        "\n",
        "exel = pd.read_csv(\"exel.csv\")\n",
        "\n",
        "exel0 = pd.read_excel(\"exel0.xlsx\")"
      ],
      "execution_count": 0,
      "outputs": []
    },
    {
      "cell_type": "code",
      "metadata": {
        "id": "93HGGKCrl11Z",
        "colab_type": "code",
        "colab": {}
      },
      "source": [
        "# aykut.cayir@khas.edu.tr / kaggle' da deprem predictionda 76. olan arkadaş"
      ],
      "execution_count": 0,
      "outputs": []
    },
    {
      "cell_type": "code",
      "metadata": {
        "id": "4BW_SidyFZQX",
        "colab_type": "code",
        "colab": {}
      },
      "source": [
        "# Forecasting: Principles and Practice ücretsiz pdf var"
      ],
      "execution_count": 0,
      "outputs": []
    },
    {
      "cell_type": "code",
      "metadata": {
        "id": "kxsKW1g_HLl-",
        "colab_type": "code",
        "colab": {}
      },
      "source": [
        "# tsfeatures(in R) kütüphane"
      ],
      "execution_count": 0,
      "outputs": []
    },
    {
      "cell_type": "code",
      "metadata": {
        "id": "s2a13WNFHQKz",
        "colab_type": "code",
        "colab": {}
      },
      "source": [
        "# Boruta kütüphanesi python'da"
      ],
      "execution_count": 0,
      "outputs": []
    },
    {
      "cell_type": "code",
      "metadata": {
        "id": "nT8iOtulLGKz",
        "colab_type": "code",
        "colab": {}
      },
      "source": [
        "# catboost ve pipeline araştır"
      ],
      "execution_count": 0,
      "outputs": []
    },
    {
      "cell_type": "code",
      "metadata": {
        "id": "RytWHZsAW1gM",
        "colab_type": "code",
        "colab": {}
      },
      "source": [
        ""
      ],
      "execution_count": 0,
      "outputs": []
    }
  ]
}