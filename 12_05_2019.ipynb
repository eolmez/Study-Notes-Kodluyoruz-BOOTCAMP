{
  "nbformat": 4,
  "nbformat_minor": 0,
  "metadata": {
    "colab": {
      "name": "12/05/2019.ipynb",
      "version": "0.3.2",
      "provenance": [],
      "collapsed_sections": [],
      "include_colab_link": true
    },
    "kernelspec": {
      "name": "python3",
      "display_name": "Python 3"
    }
  },
  "cells": [
    {
      "cell_type": "markdown",
      "metadata": {
        "id": "view-in-github",
        "colab_type": "text"
      },
      "source": [
        "<a href=\"https://colab.research.google.com/github/eolmez91/Study-Notes-Kodluyoruz-BOOTCAMP/blob/master/12_05_2019.ipynb\" target=\"_parent\"><img src=\"https://colab.research.google.com/assets/colab-badge.svg\" alt=\"Open In Colab\"/></a>"
      ]
    },
    {
      "cell_type": "code",
      "metadata": {
        "id": "ac5ErlbwCLdr",
        "colab_type": "code",
        "colab": {}
      },
      "source": [
        "import numpy as np"
      ],
      "execution_count": 0,
      "outputs": []
    },
    {
      "cell_type": "code",
      "metadata": {
        "id": "Ab36niVrF0t-",
        "colab_type": "code",
        "outputId": "59ff22a2-2292-481f-de5f-0c43a8d47f20",
        "colab": {
          "base_uri": "https://localhost:8080/",
          "height": 67
        }
      },
      "source": [
        "a = np.array([[1,2], [3,4], [5,6]])\n",
        "\n",
        "print(a)\n",
        "\n"
      ],
      "execution_count": 0,
      "outputs": [
        {
          "output_type": "stream",
          "text": [
            "[[1 2]\n",
            " [3 4]\n",
            " [5 6]]\n"
          ],
          "name": "stdout"
        }
      ]
    },
    {
      "cell_type": "code",
      "metadata": {
        "id": "iuSZaXJTGQf4",
        "colab_type": "code",
        "outputId": "38542442-d4a3-4319-c52b-3a3822210d43",
        "colab": {
          "base_uri": "https://localhost:8080/",
          "height": 67
        }
      },
      "source": [
        "ikidenBuyuk = (a>2) # 2'den büyük olanları seçelim\n",
        "                    # a dizisi ile aynı boyutta yeni boyun oluşturur\n",
        "                    # 2'den büyük ise True, küçük ise False döndürür\n",
        "    \n",
        "print(ikidenBuyuk)"
      ],
      "execution_count": 0,
      "outputs": [
        {
          "output_type": "stream",
          "text": [
            "[[False False]\n",
            " [ True  True]\n",
            " [ True  True]]\n"
          ],
          "name": "stdout"
        }
      ]
    },
    {
      "cell_type": "code",
      "metadata": {
        "id": "M1G1T2e3Gn1W",
        "colab_type": "code",
        "outputId": "98bf574b-3992-49b0-d4cc-bc414eee242f",
        "colab": {
          "base_uri": "https://localhost:8080/",
          "height": 50
        }
      },
      "source": [
        "# Boolean indekseleme kullanarak bulduğumuz değerleri yazdıralım\n",
        "print(a[ikidenBuyuk])\n",
        "\n",
        "# 2'den büyüj olanları şu şekilde de bulabiliriz.\n",
        "\n",
        "print(a[a > 2])"
      ],
      "execution_count": 0,
      "outputs": [
        {
          "output_type": "stream",
          "text": [
            "[3 4 5 6]\n",
            "[3 4 5 6]\n"
          ],
          "name": "stdout"
        }
      ]
    },
    {
      "cell_type": "code",
      "metadata": {
        "id": "YsJhQoohG7RE",
        "colab_type": "code",
        "outputId": "b28b6e61-dd21-4876-c2ad-c7d7f0605e24",
        "colab": {
          "base_uri": "https://localhost:8080/",
          "height": 34
        }
      },
      "source": [
        "x = np.array([1,2])          # Veri tipini Numpy seçsin\n",
        "y = np.array([1.0, 2.0])  # Veri tiğini Numpy seçsin\n",
        "z = np.array([1,2], dtype=np.int64) # Veri tiğini BİZ belirleyelim\n",
        "\n",
        "print(x.dtype, y.dtype, z.dtype)"
      ],
      "execution_count": 0,
      "outputs": [
        {
          "output_type": "stream",
          "text": [
            "int64 float64 int64\n"
          ],
          "name": "stdout"
        }
      ]
    },
    {
      "cell_type": "code",
      "metadata": {
        "id": "6g-Ks2WTRqL0",
        "colab_type": "code",
        "colab": {}
      },
      "source": [
        "#Numpy Dizilerde Matematiksel İşlemler"
      ],
      "execution_count": 0,
      "outputs": []
    },
    {
      "cell_type": "code",
      "metadata": {
        "id": "NoDqE7nTSBYX",
        "colab_type": "code",
        "outputId": "7a552390-e7fb-40d2-8edf-d3681d5478e7",
        "colab": {
          "base_uri": "https://localhost:8080/",
          "height": 84
        }
      },
      "source": [
        "x = np.array([[1,2], [3,4]], dtype=np.float64)\n",
        "y = np.array([[5,6], [7,8]], dtype=np.float64)\n",
        "\n",
        "print(x + y)\n",
        "print(np.add(x,y))"
      ],
      "execution_count": 0,
      "outputs": [
        {
          "output_type": "stream",
          "text": [
            "[[ 6.  8.]\n",
            " [10. 12.]]\n",
            "[[ 6.  8.]\n",
            " [10. 12.]]\n"
          ],
          "name": "stdout"
        }
      ]
    },
    {
      "cell_type": "code",
      "metadata": {
        "id": "_0Zhs2m6SgcI",
        "colab_type": "code",
        "outputId": "1ec13e39-3f35-46d7-d30a-86993b97c238",
        "colab": {
          "base_uri": "https://localhost:8080/",
          "height": 84
        }
      },
      "source": [
        "print(x-y)\n",
        "print(np.subtract(x,y))"
      ],
      "execution_count": 0,
      "outputs": [
        {
          "output_type": "stream",
          "text": [
            "[[-4. -4.]\n",
            " [-4. -4.]]\n",
            "[[-4. -4.]\n",
            " [-4. -4.]]\n"
          ],
          "name": "stdout"
        }
      ]
    },
    {
      "cell_type": "code",
      "metadata": {
        "id": "C2RuoIH0T5h_",
        "colab_type": "code",
        "outputId": "9ed1d364-3c20-444c-d824-139335de092d",
        "colab": {
          "base_uri": "https://localhost:8080/",
          "height": 84
        }
      },
      "source": [
        "print(x*y)\n",
        "print(np.multiply(x, y))"
      ],
      "execution_count": 0,
      "outputs": [
        {
          "output_type": "stream",
          "text": [
            "[[ 5. 12.]\n",
            " [21. 32.]]\n",
            "[[ 5. 12.]\n",
            " [21. 32.]]\n"
          ],
          "name": "stdout"
        }
      ]
    },
    {
      "cell_type": "code",
      "metadata": {
        "id": "SHcA5lsNUZQ2",
        "colab_type": "code",
        "outputId": "70ea1d8c-b0c2-472c-8b70-632c803c3e55",
        "colab": {
          "base_uri": "https://localhost:8080/",
          "height": 50
        }
      },
      "source": [
        "\n",
        "print(np.dot(x, y))"
      ],
      "execution_count": 0,
      "outputs": [
        {
          "output_type": "stream",
          "text": [
            "[[19. 22.]\n",
            " [43. 50.]]\n"
          ],
          "name": "stdout"
        }
      ]
    },
    {
      "cell_type": "code",
      "metadata": {
        "id": "1pexY4QEXp8h",
        "colab_type": "code",
        "outputId": "b023af5a-bf5d-4568-da0b-2dabc0f9b5f8",
        "colab": {
          "base_uri": "https://localhost:8080/",
          "height": 134
        }
      },
      "source": [
        "x = np.array([[4,9], [16,81]], dtype = np.float64)\n",
        "\n",
        "print(np.sqrt(x))\n",
        "print(np.square(x))\n",
        "print(np.exp(x))\n",
        "print(np.exp(1)) # E sayısının değeri"
      ],
      "execution_count": 0,
      "outputs": [
        {
          "output_type": "stream",
          "text": [
            "[[2. 3.]\n",
            " [4. 9.]]\n",
            "[[  16.   81.]\n",
            " [ 256. 6561.]]\n",
            "[[5.45981500e+01 8.10308393e+03]\n",
            " [8.88611052e+06 1.50609731e+35]]\n",
            "2.718281828459045\n"
          ],
          "name": "stdout"
        }
      ]
    },
    {
      "cell_type": "code",
      "metadata": {
        "id": "jD8G6k1la3d0",
        "colab_type": "code",
        "outputId": "78920704-6cda-4648-e02c-d96d69ac79c5",
        "colab": {
          "base_uri": "https://localhost:8080/",
          "height": 34
        }
      },
      "source": [
        "buyuk_sayilar = np.array([10, 100, 1000, 10000, 100000, 10000000000000])\n",
        "\n",
        "print(np.log(buyuk_sayilar))"
      ],
      "execution_count": 0,
      "outputs": [
        {
          "output_type": "stream",
          "text": [
            "[ 2.30258509  4.60517019  6.90775528  9.21034037 11.51292546 29.93360621]\n"
          ],
          "name": "stdout"
        }
      ]
    },
    {
      "cell_type": "code",
      "metadata": {
        "id": "jGCJdhjJbNwu",
        "colab_type": "code",
        "colab": {}
      },
      "source": [
        "# Dizilerde Sinüs Bulma"
      ],
      "execution_count": 0,
      "outputs": []
    },
    {
      "cell_type": "code",
      "metadata": {
        "id": "fNcXT88NbvRy",
        "colab_type": "code",
        "outputId": "d81a669f-bda4-49be-e732-22d474931de7",
        "colab": {
          "base_uri": "https://localhost:8080/",
          "height": 34
        }
      },
      "source": [
        "x = np.array([np.pi/6, np.pi/2, np.pi/3])\n",
        "\n",
        "print(np.sin(x))"
      ],
      "execution_count": 0,
      "outputs": [
        {
          "output_type": "stream",
          "text": [
            "[0.5       1.        0.8660254]\n"
          ],
          "name": "stdout"
        }
      ]
    },
    {
      "cell_type": "code",
      "metadata": {
        "id": "emHHDAgYb5_R",
        "colab_type": "code",
        "colab": {}
      },
      "source": [
        "# Dizi elelmanlarını toplama"
      ],
      "execution_count": 0,
      "outputs": []
    },
    {
      "cell_type": "code",
      "metadata": {
        "id": "c8yIrUgUcnYP",
        "colab_type": "code",
        "outputId": "1ae22d68-a9e0-4e1b-e5ab-ce0805053986",
        "colab": {
          "base_uri": "https://localhost:8080/",
          "height": 67
        }
      },
      "source": [
        "x = np.array([[1,2], [3,4]])\n",
        "\n",
        "print(np.sum(x))           # Tüm matris elemanlarının toplamını ekrana yazdırır\n",
        "print(np.sum(x, axis = 0)) # Sütün toplamlarını ekrana yazdırır\n",
        "print(np.sum(x, axis = 1)) # Satır toplamlarını ekrana yazdırır"
      ],
      "execution_count": 0,
      "outputs": [
        {
          "output_type": "stream",
          "text": [
            "10\n",
            "[4 6]\n",
            "[3 7]\n"
          ],
          "name": "stdout"
        }
      ]
    },
    {
      "cell_type": "code",
      "metadata": {
        "id": "gjFxrkbzdE1B",
        "colab_type": "code",
        "outputId": "ca5ac927-fb6c-4e7f-f252-3b0bf72e9ae1",
        "colab": {
          "base_uri": "https://localhost:8080/",
          "height": 84
        }
      },
      "source": [
        "print(x)\n",
        "print(x.T)"
      ],
      "execution_count": 0,
      "outputs": [
        {
          "output_type": "stream",
          "text": [
            "[[1 2]\n",
            " [3 4]]\n",
            "[[1 3]\n",
            " [2 4]]\n"
          ],
          "name": "stdout"
        }
      ]
    },
    {
      "cell_type": "code",
      "metadata": {
        "id": "5mcUzmrVejzb",
        "colab_type": "code",
        "outputId": "e60ce432-1448-4f90-cbed-af9146b30224",
        "colab": {
          "base_uri": "https://localhost:8080/",
          "height": 67
        }
      },
      "source": [
        "v = np.array([[1,2,3]])\n",
        "\n",
        "print(v.T)"
      ],
      "execution_count": 0,
      "outputs": [
        {
          "output_type": "stream",
          "text": [
            "[[1]\n",
            " [2]\n",
            " [3]]\n"
          ],
          "name": "stdout"
        }
      ]
    },
    {
      "cell_type": "code",
      "metadata": {
        "id": "hG2XgAwNfVv_",
        "colab_type": "code",
        "outputId": "0894e691-66c8-47e9-f391-dca8e30cf5bd",
        "colab": {
          "base_uri": "https://localhost:8080/",
          "height": 50
        }
      },
      "source": [
        "y = np.array([1,2,3,4])\n",
        "\n",
        "print(y.shape)\n",
        "\n",
        "y.T\n",
        "\n",
        "print(y.shape)"
      ],
      "execution_count": 0,
      "outputs": [
        {
          "output_type": "stream",
          "text": [
            "(4,)\n",
            "(4,)\n"
          ],
          "name": "stdout"
        }
      ]
    },
    {
      "cell_type": "code",
      "metadata": {
        "id": "xVC2MOjRfeE7",
        "colab_type": "code",
        "outputId": "b83c1a71-1c13-48b9-b12e-39ccc432e278",
        "colab": {
          "base_uri": "https://localhost:8080/",
          "height": 84
        }
      },
      "source": [
        "# v vektörünü x matrsinin her bir satırına eklemek isteyelim\n",
        "# sonuçları y matrisinde tutalım\n",
        "\n",
        "x = np.array([[1,2,3], [4,5,6], [7,8,9], [10,11,12]])\n",
        "v = np.array([1, 0, 1])\n",
        "y = np.empty_like(x)   # x ile aynı boyuta sahip bir matris oluşturalım\n",
        "\n",
        "print(x)"
      ],
      "execution_count": 0,
      "outputs": [
        {
          "output_type": "stream",
          "text": [
            "[[ 1  2  3]\n",
            " [ 4  5  6]\n",
            " [ 7  8  9]\n",
            " [10 11 12]]\n"
          ],
          "name": "stdout"
        }
      ]
    },
    {
      "cell_type": "code",
      "metadata": {
        "id": "SK1sfVAngXsI",
        "colab_type": "code",
        "outputId": "12d64f0f-440b-4497-e8f5-4b868f136680",
        "colab": {
          "base_uri": "https://localhost:8080/",
          "height": 84
        }
      },
      "source": [
        "# ve vektörünü x matrisinin her bir satırına for döngüsü kullanarak ekleme\n",
        "\n",
        "for i in range(4):\n",
        "  y[i, :] = x[i, :] + v\n",
        "  \n",
        "print(y)"
      ],
      "execution_count": 0,
      "outputs": [
        {
          "output_type": "stream",
          "text": [
            "[[ 2  2  4]\n",
            " [ 5  5  7]\n",
            " [ 8  8 10]\n",
            " [11 11 13]]\n"
          ],
          "name": "stdout"
        }
      ]
    },
    {
      "cell_type": "code",
      "metadata": {
        "id": "dtv0g9glhBCx",
        "colab_type": "code",
        "outputId": "1c2c9641-9347-4f5f-dec0-21c2950927f4",
        "colab": {
          "base_uri": "https://localhost:8080/",
          "height": 84
        }
      },
      "source": [
        "vv = np.tile(v, (4, 1)) # 4 satırda 1'er kere v vektörünü kullanma\n",
        "\n",
        "print(vv)"
      ],
      "execution_count": 0,
      "outputs": [
        {
          "output_type": "stream",
          "text": [
            "[[1 0 1]\n",
            " [1 0 1]\n",
            " [1 0 1]\n",
            " [1 0 1]]\n"
          ],
          "name": "stdout"
        }
      ]
    },
    {
      "cell_type": "code",
      "metadata": {
        "id": "MZX9Nd9ohcpK",
        "colab_type": "code",
        "outputId": "060bd79b-74de-4ea8-ae33-a7a8eabf0a2b",
        "colab": {
          "base_uri": "https://localhost:8080/",
          "height": 84
        }
      },
      "source": [
        "y = x + vv\n",
        "\n",
        "print(y)"
      ],
      "execution_count": 0,
      "outputs": [
        {
          "output_type": "stream",
          "text": [
            "[[ 2  2  4]\n",
            " [ 5  5  7]\n",
            " [ 8  8 10]\n",
            " [11 11 13]]\n"
          ],
          "name": "stdout"
        }
      ]
    },
    {
      "cell_type": "code",
      "metadata": {
        "id": "bNc2xUq-h4cJ",
        "colab_type": "code",
        "outputId": "98884143-8d76-46b1-8179-4330d0178ff7",
        "colab": {
          "base_uri": "https://localhost:8080/",
          "height": 84
        }
      },
      "source": [
        "# y vektörünü x matrisinin her bir saturuna eklemek isteyelim\n",
        "# sonuçları ye matrisinde tutalım\n",
        "\n",
        "y = (x + v) # x matrisinin her satırına v vektörünü broadcasting kullanarak ekleyelim\n",
        "\n",
        "print(y)"
      ],
      "execution_count": 0,
      "outputs": [
        {
          "output_type": "stream",
          "text": [
            "[[ 2  2  4]\n",
            " [ 5  5  7]\n",
            " [ 8  8 10]\n",
            " [11 11 13]]\n"
          ],
          "name": "stdout"
        }
      ]
    },
    {
      "cell_type": "code",
      "metadata": {
        "id": "0OCWHccBjMav",
        "colab_type": "code",
        "outputId": "41c4d2c1-d85e-44df-bb53-7ccfa9bc14d3",
        "colab": {
          "base_uri": "https://localhost:8080/",
          "height": 67
        }
      },
      "source": [
        "# v ile w'nin vektörel çarpımını hesaplayalım\n",
        "\n",
        "v = np.array([1,2,3]) # v'nin boyutu (3,)\n",
        "w= np.array([4,5])    # w'nin boyutu (2,)\n",
        "\n",
        "print(np.reshape(v, (3,1))* w)"
      ],
      "execution_count": 0,
      "outputs": [
        {
          "output_type": "stream",
          "text": [
            "[[ 4  5]\n",
            " [ 8 10]\n",
            " [12 15]]\n"
          ],
          "name": "stdout"
        }
      ]
    },
    {
      "cell_type": "code",
      "metadata": {
        "id": "fSRxroY8kHjs",
        "colab_type": "code",
        "outputId": "1dac8e0f-396e-4480-fa79-3be0333e6f4b",
        "colab": {
          "base_uri": "https://localhost:8080/",
          "height": 246
        }
      },
      "source": [
        "# PÜF NOKTALAR\n",
        "a = np.array([0])\n",
        "b = 0\n",
        "\n",
        "print(a/a)\n",
        "print(b/b)"
      ],
      "execution_count": 0,
      "outputs": [
        {
          "output_type": "stream",
          "text": [
            "[nan]\n"
          ],
          "name": "stdout"
        },
        {
          "output_type": "stream",
          "text": [
            "/usr/local/lib/python3.6/dist-packages/ipykernel_launcher.py:4: RuntimeWarning: invalid value encountered in true_divide\n",
            "  after removing the cwd from sys.path.\n"
          ],
          "name": "stderr"
        },
        {
          "output_type": "error",
          "ename": "ZeroDivisionError",
          "evalue": "ignored",
          "traceback": [
            "\u001b[0;31m---------------------------------------------------------------------------\u001b[0m",
            "\u001b[0;31mZeroDivisionError\u001b[0m                         Traceback (most recent call last)",
            "\u001b[0;32m<ipython-input-54-a485d774637c>\u001b[0m in \u001b[0;36m<module>\u001b[0;34m()\u001b[0m\n\u001b[1;32m      3\u001b[0m \u001b[0;34m\u001b[0m\u001b[0m\n\u001b[1;32m      4\u001b[0m \u001b[0mprint\u001b[0m\u001b[0;34m(\u001b[0m\u001b[0ma\u001b[0m\u001b[0;34m/\u001b[0m\u001b[0ma\u001b[0m\u001b[0;34m)\u001b[0m\u001b[0;34m\u001b[0m\u001b[0;34m\u001b[0m\u001b[0m\n\u001b[0;32m----> 5\u001b[0;31m \u001b[0mprint\u001b[0m\u001b[0;34m(\u001b[0m\u001b[0mb\u001b[0m\u001b[0;34m/\u001b[0m\u001b[0mb\u001b[0m\u001b[0;34m)\u001b[0m\u001b[0;34m\u001b[0m\u001b[0;34m\u001b[0m\u001b[0m\n\u001b[0m",
            "\u001b[0;31mZeroDivisionError\u001b[0m: division by zero"
          ]
        }
      ]
    },
    {
      "cell_type": "code",
      "metadata": {
        "id": "sXWEOuHokq3p",
        "colab_type": "code",
        "outputId": "67561f2b-42f9-4c76-ae9a-121ea3b07384",
        "colab": {
          "base_uri": "https://localhost:8080/",
          "height": 50
        }
      },
      "source": [
        "x = np.array([1, 2, 2.5])\n",
        "\n",
        "print(x)\n",
        "\n",
        "x = x.astype(int)\n",
        "\n",
        "print(x)"
      ],
      "execution_count": 0,
      "outputs": [
        {
          "output_type": "stream",
          "text": [
            "[1.  2.  2.5]\n",
            "[1 2 2]\n"
          ],
          "name": "stdout"
        }
      ]
    },
    {
      "cell_type": "code",
      "metadata": {
        "id": "TkG6PY9_lH5c",
        "colab_type": "code",
        "outputId": "d56e9844-c81e-447b-ea1f-ecbe21695362",
        "colab": {
          "base_uri": "https://localhost:8080/",
          "height": 84
        }
      },
      "source": [
        "x = np.array([1, 2])\n",
        "\n",
        "print(x.shape)\n",
        "x=np.expand_dims(x, axis=0)\n",
        "print(x.shape)\n",
        "x=np.expand_dims(x, axis=0)\n",
        "print(x.shape)\n",
        "x=np.expand_dims(x, axis=0)\n",
        "print(x.shape)"
      ],
      "execution_count": 0,
      "outputs": [
        {
          "output_type": "stream",
          "text": [
            "(2,)\n",
            "(1, 2)\n",
            "(1, 1, 2)\n",
            "(1, 1, 1, 2)\n"
          ],
          "name": "stdout"
        }
      ]
    },
    {
      "cell_type": "code",
      "metadata": {
        "id": "CtjDM18XllNE",
        "colab_type": "code",
        "outputId": "d704394e-c9d0-4b45-bf44-0f3d4c9ca546",
        "colab": {
          "base_uri": "https://localhost:8080/",
          "height": 67
        }
      },
      "source": [
        "x=np.expand_dims(x, axis=1)\n",
        "print(x.shape)\n",
        "x=np.expand_dims(x, axis=1)\n",
        "print(x.shape)\n",
        "x=np.expand_dims(x, axis=1)\n",
        "print(x.shape)"
      ],
      "execution_count": 0,
      "outputs": [
        {
          "output_type": "stream",
          "text": [
            "(1, 1, 1, 1, 2)\n",
            "(1, 1, 1, 1, 1, 2)\n",
            "(1, 1, 1, 1, 1, 1, 2)\n"
          ],
          "name": "stdout"
        }
      ]
    },
    {
      "cell_type": "code",
      "metadata": {
        "id": "Nw4RMu5Fl8_x",
        "colab_type": "code",
        "colab": {}
      },
      "source": [
        "# Numpy is over"
      ],
      "execution_count": 0,
      "outputs": []
    },
    {
      "cell_type": "code",
      "metadata": {
        "id": "2ZmC5V5Xmafe",
        "colab_type": "code",
        "colab": {}
      },
      "source": [
        "# yapay sinir ağında beklenen sonuç çıkmadığında hata payını ölçmek için kullanılan \"cost function\" kullanılmaıldır. 1/2(hedeflenen-tahmin)**2 \n",
        "# ETotal = toplam1/2(hedeflenen-tahmin)**2\n",
        "# parametre yapay sinir ağımın kendi kendine öğrendiği değerlere denir homerwork 6'da 10 tane parametre var w ve b'ler\n",
        "# zincir türev alma\n",
        "# 1. o1- hedeflenen 2. o1(1-o1) 3. out h1\n",
        "#etotal/w5 = (etotal/o1)(o1/out h1)( out h1/w5)\n",
        "\n",
        "#hatayı hesaplay\n",
        "#learning rate"
      ],
      "execution_count": 0,
      "outputs": []
    },
    {
      "cell_type": "code",
      "metadata": {
        "id": "TC85GhLMJ9jJ",
        "colab_type": "code",
        "colab": {}
      },
      "source": [
        ""
      ],
      "execution_count": 0,
      "outputs": []
    }
  ]
}