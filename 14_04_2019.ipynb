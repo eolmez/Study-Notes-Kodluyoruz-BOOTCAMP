{
  "nbformat": 4,
  "nbformat_minor": 0,
  "metadata": {
    "colab": {
      "name": "14/04/2019.ipynb",
      "version": "0.3.2",
      "provenance": [],
      "collapsed_sections": [],
      "include_colab_link": true
    },
    "kernelspec": {
      "name": "python3",
      "display_name": "Python 3"
    },
    "accelerator": "GPU"
  },
  "cells": [
    {
      "cell_type": "markdown",
      "metadata": {
        "id": "view-in-github",
        "colab_type": "text"
      },
      "source": [
        "<a href=\"https://colab.research.google.com/github/eolmez91/Study-Notes-Kodluyoruz-BOOTCAMP/blob/master/14_04_2019.ipynb\" target=\"_parent\"><img src=\"https://colab.research.google.com/assets/colab-badge.svg\" alt=\"Open In Colab\"/></a>"
      ]
    },
    {
      "cell_type": "code",
      "metadata": {
        "id": "MMpnFmxFnndv",
        "colab_type": "code",
        "outputId": "42fb3ab9-0154-483f-f9c4-753a5e3c797e",
        "colab": {
          "base_uri": "https://localhost:8080/",
          "height": 34
        }
      },
      "source": [
        "!python --version"
      ],
      "execution_count": 0,
      "outputs": [
        {
          "output_type": "stream",
          "text": [
            "Python 3.6.7\n"
          ],
          "name": "stdout"
        }
      ]
    },
    {
      "cell_type": "code",
      "metadata": {
        "id": "C_jwpNK5qYXg",
        "colab_type": "code",
        "colab": {}
      },
      "source": [
        "#Yorum"
      ],
      "execution_count": 0,
      "outputs": []
    },
    {
      "cell_type": "code",
      "metadata": {
        "id": "bTOEgjA7rBJ_",
        "colab_type": "code",
        "outputId": "09118b8b-eba2-4305-c551-adec364db9ba",
        "colab": {
          "base_uri": "https://localhost:8080/",
          "height": 34
        }
      },
      "source": [
        "\"\"\"\n",
        "Yorum\n",
        "\"\"\""
      ],
      "execution_count": 0,
      "outputs": [
        {
          "output_type": "execute_result",
          "data": {
            "text/plain": [
              "'\\nYorum\\n'"
            ]
          },
          "metadata": {
            "tags": []
          },
          "execution_count": 3
        }
      ]
    },
    {
      "cell_type": "code",
      "metadata": {
        "id": "WuvDjv-ErDhs",
        "colab_type": "code",
        "colab": {}
      },
      "source": [
        "merhaba = \"Merhaba\""
      ],
      "execution_count": 0,
      "outputs": []
    },
    {
      "cell_type": "code",
      "metadata": {
        "id": "ObEap_xer264",
        "colab_type": "code",
        "outputId": "381871b2-deb8-40d6-8b7b-06daad9d5c80",
        "colab": {
          "base_uri": "https://localhost:8080/",
          "height": 34
        }
      },
      "source": [
        "print(\"Merhaba\")"
      ],
      "execution_count": 0,
      "outputs": [
        {
          "output_type": "stream",
          "text": [
            "Merhaba\n"
          ],
          "name": "stdout"
        }
      ]
    },
    {
      "cell_type": "code",
      "metadata": {
        "id": "l6eCJ1qor6hn",
        "colab_type": "code",
        "outputId": "f22d2551-24dd-4c5d-8c2c-59533ba14bb8",
        "colab": {
          "base_uri": "https://localhost:8080/",
          "height": 34
        }
      },
      "source": [
        "print(merhaba)"
      ],
      "execution_count": 0,
      "outputs": [
        {
          "output_type": "stream",
          "text": [
            "Merhaba\n"
          ],
          "name": "stdout"
        }
      ]
    },
    {
      "cell_type": "code",
      "metadata": {
        "id": "y1262YgRr-M0",
        "colab_type": "code",
        "outputId": "3730ccf1-5621-4ec5-986d-3646ed8d8dd9",
        "colab": {
          "base_uri": "https://localhost:8080/",
          "height": 34
        }
      },
      "source": [
        "print(\"{}\".format(merhaba))"
      ],
      "execution_count": 0,
      "outputs": [
        {
          "output_type": "stream",
          "text": [
            "Merhaba\n"
          ],
          "name": "stdout"
        }
      ]
    },
    {
      "cell_type": "code",
      "metadata": {
        "id": "OJx7dx0jsI2I",
        "colab_type": "code",
        "outputId": "a7e3e86c-0556-4f0f-ea26-d0946a7ae5b0",
        "colab": {
          "base_uri": "https://localhost:8080/",
          "height": 34
        }
      },
      "source": [
        "print(type(merhaba))"
      ],
      "execution_count": 0,
      "outputs": [
        {
          "output_type": "stream",
          "text": [
            "<class 'str'>\n"
          ],
          "name": "stdout"
        }
      ]
    },
    {
      "cell_type": "code",
      "metadata": {
        "id": "S074ygp9sStJ",
        "colab_type": "code",
        "outputId": "12ddcf7f-92d4-4057-edd2-642c06618816",
        "colab": {
          "base_uri": "https://localhost:8080/",
          "height": 34
        }
      },
      "source": [
        "print(len(merhaba))"
      ],
      "execution_count": 0,
      "outputs": [
        {
          "output_type": "stream",
          "text": [
            "7\n"
          ],
          "name": "stdout"
        }
      ]
    },
    {
      "cell_type": "code",
      "metadata": {
        "id": "O2T2-amfsVPo",
        "colab_type": "code",
        "outputId": "43d74604-221d-4387-e47a-c3c732dff62f",
        "colab": {
          "base_uri": "https://localhost:8080/",
          "height": 34
        }
      },
      "source": [
        "print(merhaba[0])"
      ],
      "execution_count": 0,
      "outputs": [
        {
          "output_type": "stream",
          "text": [
            "M\n"
          ],
          "name": "stdout"
        }
      ]
    },
    {
      "cell_type": "code",
      "metadata": {
        "id": "BhFWw27JsZnX",
        "colab_type": "code",
        "outputId": "ee44138d-fae0-4486-f39a-52a8533c5085",
        "colab": {
          "base_uri": "https://localhost:8080/",
          "height": 34
        }
      },
      "source": [
        "print(merhaba[1])"
      ],
      "execution_count": 0,
      "outputs": [
        {
          "output_type": "stream",
          "text": [
            "e\n"
          ],
          "name": "stdout"
        }
      ]
    },
    {
      "cell_type": "code",
      "metadata": {
        "id": "_weyyyNNsoNb",
        "colab_type": "code",
        "outputId": "c3a84662-eeac-4451-faef-a119cc2eb020",
        "colab": {
          "base_uri": "https://localhost:8080/",
          "height": 34
        }
      },
      "source": [
        "print(merhaba[2])"
      ],
      "execution_count": 0,
      "outputs": [
        {
          "output_type": "stream",
          "text": [
            "r\n"
          ],
          "name": "stdout"
        }
      ]
    },
    {
      "cell_type": "code",
      "metadata": {
        "id": "HXvedEKwsr8O",
        "colab_type": "code",
        "outputId": "80c74094-24d7-429b-e3bb-c3c0231b2f00",
        "colab": {
          "base_uri": "https://localhost:8080/",
          "height": 34
        }
      },
      "source": [
        "print(\"{}, {}\".format(merhaba, merhaba))"
      ],
      "execution_count": 0,
      "outputs": [
        {
          "output_type": "stream",
          "text": [
            "Merhaba, Merhaba\n"
          ],
          "name": "stdout"
        }
      ]
    },
    {
      "cell_type": "code",
      "metadata": {
        "id": "YuA4mBK5s_51",
        "colab_type": "code",
        "outputId": "c619cec2-b69b-45cb-9479-0cc113aab441",
        "colab": {
          "base_uri": "https://localhost:8080/",
          "height": 34
        }
      },
      "source": [
        "print(merhaba[6])"
      ],
      "execution_count": 0,
      "outputs": [
        {
          "output_type": "stream",
          "text": [
            "a\n"
          ],
          "name": "stdout"
        }
      ]
    },
    {
      "cell_type": "code",
      "metadata": {
        "id": "L4DotoVCtoz3",
        "colab_type": "code",
        "colab": {}
      },
      "source": [
        "x = 3"
      ],
      "execution_count": 0,
      "outputs": []
    },
    {
      "cell_type": "code",
      "metadata": {
        "id": "pT4fqMTKvNnq",
        "colab_type": "code",
        "outputId": "c500fb15-173a-4f29-bb35-d46d64f39aae",
        "colab": {
          "base_uri": "https://localhost:8080/",
          "height": 34
        }
      },
      "source": [
        "print(x)"
      ],
      "execution_count": 0,
      "outputs": [
        {
          "output_type": "stream",
          "text": [
            "3\n"
          ],
          "name": "stdout"
        }
      ]
    },
    {
      "cell_type": "code",
      "metadata": {
        "id": "nXcyOnawvPJ4",
        "colab_type": "code",
        "outputId": "791bd2cc-9111-494e-b831-9eee247ffb43",
        "colab": {
          "base_uri": "https://localhost:8080/",
          "height": 34
        }
      },
      "source": [
        "print(type(3))"
      ],
      "execution_count": 0,
      "outputs": [
        {
          "output_type": "stream",
          "text": [
            "<class 'int'>\n"
          ],
          "name": "stdout"
        }
      ]
    },
    {
      "cell_type": "code",
      "metadata": {
        "id": "se6iNoHmvQps",
        "colab_type": "code",
        "outputId": "a936b9a4-bfb7-4230-e364-ab54c72e4608",
        "colab": {
          "base_uri": "https://localhost:8080/",
          "height": 34
        }
      },
      "source": [
        "print(x, type(x))"
      ],
      "execution_count": 0,
      "outputs": [
        {
          "output_type": "stream",
          "text": [
            "3 <class 'int'>\n"
          ],
          "name": "stdout"
        }
      ]
    },
    {
      "cell_type": "code",
      "metadata": {
        "id": "S38eEix5vVOR",
        "colab_type": "code",
        "colab": {}
      },
      "source": [
        "x = 5"
      ],
      "execution_count": 0,
      "outputs": []
    },
    {
      "cell_type": "code",
      "metadata": {
        "id": "XEg_DVBkvpwg",
        "colab_type": "code",
        "outputId": "8711a1fb-fe72-4cff-aac3-4251b9ecfbf4",
        "colab": {
          "base_uri": "https://localhost:8080/",
          "height": 34
        }
      },
      "source": [
        "print( x + 2)"
      ],
      "execution_count": 0,
      "outputs": [
        {
          "output_type": "stream",
          "text": [
            "7\n"
          ],
          "name": "stdout"
        }
      ]
    },
    {
      "cell_type": "code",
      "metadata": {
        "id": "oeNcCAHUvuZw",
        "colab_type": "code",
        "outputId": "093f2a99-3553-4150-9c82-a658fe7a9bba",
        "colab": {
          "base_uri": "https://localhost:8080/",
          "height": 34
        }
      },
      "source": [
        "print(x - 2)"
      ],
      "execution_count": 0,
      "outputs": [
        {
          "output_type": "stream",
          "text": [
            "3\n"
          ],
          "name": "stdout"
        }
      ]
    },
    {
      "cell_type": "code",
      "metadata": {
        "id": "yXT8oWshv-hr",
        "colab_type": "code",
        "outputId": "f6739d07-860a-4504-e536-11e328ad681f",
        "colab": {
          "base_uri": "https://localhost:8080/",
          "height": 34
        }
      },
      "source": [
        "print(x * 2)"
      ],
      "execution_count": 0,
      "outputs": [
        {
          "output_type": "stream",
          "text": [
            "10\n"
          ],
          "name": "stdout"
        }
      ]
    },
    {
      "cell_type": "code",
      "metadata": {
        "id": "K0K7uUqKwAsI",
        "colab_type": "code",
        "outputId": "922e8391-1679-4523-e45d-8b834a183ba7",
        "colab": {
          "base_uri": "https://localhost:8080/",
          "height": 34
        }
      },
      "source": [
        "print(x / 2)"
      ],
      "execution_count": 0,
      "outputs": [
        {
          "output_type": "stream",
          "text": [
            "2.5\n"
          ],
          "name": "stdout"
        }
      ]
    },
    {
      "cell_type": "code",
      "metadata": {
        "id": "NMKYxQh-wC15",
        "colab_type": "code",
        "outputId": "3f449751-4c92-4aba-e494-71c18e62d8b9",
        "colab": {
          "base_uri": "https://localhost:8080/",
          "height": 34
        }
      },
      "source": [
        "print(x // 2)"
      ],
      "execution_count": 0,
      "outputs": [
        {
          "output_type": "stream",
          "text": [
            "2\n"
          ],
          "name": "stdout"
        }
      ]
    },
    {
      "cell_type": "code",
      "metadata": {
        "id": "5La3jDr1wEUT",
        "colab_type": "code",
        "outputId": "ed4c0faf-4c8d-4dc2-8eb9-67b3b681ff61",
        "colab": {
          "base_uri": "https://localhost:8080/",
          "height": 34
        }
      },
      "source": [
        "print(x ** 2)"
      ],
      "execution_count": 0,
      "outputs": [
        {
          "output_type": "stream",
          "text": [
            "25\n"
          ],
          "name": "stdout"
        }
      ]
    },
    {
      "cell_type": "code",
      "metadata": {
        "id": "t8ugp1NawHU2",
        "colab_type": "code",
        "outputId": "31db2481-5fe6-4d2d-943c-0811c9388c91",
        "colab": {
          "base_uri": "https://localhost:8080/",
          "height": 34
        }
      },
      "source": [
        "print(x % 2)"
      ],
      "execution_count": 0,
      "outputs": [
        {
          "output_type": "stream",
          "text": [
            "1\n"
          ],
          "name": "stdout"
        }
      ]
    },
    {
      "cell_type": "code",
      "metadata": {
        "id": "HpMNZmmgwJBq",
        "colab_type": "code",
        "colab": {}
      },
      "source": [
        "x += 1 "
      ],
      "execution_count": 0,
      "outputs": []
    },
    {
      "cell_type": "code",
      "metadata": {
        "id": "23TYH4egw_Ck",
        "colab_type": "code",
        "outputId": "347a0914-b19c-4444-87e6-db60615978e3",
        "colab": {
          "base_uri": "https://localhost:8080/",
          "height": 34
        }
      },
      "source": [
        "print(x)"
      ],
      "execution_count": 0,
      "outputs": [
        {
          "output_type": "stream",
          "text": [
            "6\n"
          ],
          "name": "stdout"
        }
      ]
    },
    {
      "cell_type": "code",
      "metadata": {
        "id": "LqtTYQ9-xBXj",
        "colab_type": "code",
        "colab": {}
      },
      "source": [
        "x *= 2"
      ],
      "execution_count": 0,
      "outputs": []
    },
    {
      "cell_type": "code",
      "metadata": {
        "id": "yzDlLlODxDoD",
        "colab_type": "code",
        "outputId": "b594b04f-c148-4fac-92b9-e98c02cd4efe",
        "colab": {
          "base_uri": "https://localhost:8080/",
          "height": 34
        }
      },
      "source": [
        "print(x)"
      ],
      "execution_count": 0,
      "outputs": [
        {
          "output_type": "stream",
          "text": [
            "12\n"
          ],
          "name": "stdout"
        }
      ]
    },
    {
      "cell_type": "code",
      "metadata": {
        "id": "e3CGeAoaxEqf",
        "colab_type": "code",
        "colab": {}
      },
      "source": [
        "y = 2.5"
      ],
      "execution_count": 0,
      "outputs": []
    },
    {
      "cell_type": "code",
      "metadata": {
        "id": "Gg0vhJMAyJDi",
        "colab_type": "code",
        "outputId": "ee042f34-9b07-4e98-e0a6-6f433c74498c",
        "colab": {
          "base_uri": "https://localhost:8080/",
          "height": 34
        }
      },
      "source": [
        "print(type(y))"
      ],
      "execution_count": 0,
      "outputs": [
        {
          "output_type": "stream",
          "text": [
            "<class 'float'>\n"
          ],
          "name": "stdout"
        }
      ]
    },
    {
      "cell_type": "code",
      "metadata": {
        "id": "nllf8GSKyLk6",
        "colab_type": "code",
        "outputId": "1a0dfaae-218a-4000-84ba-43f5e32e9870",
        "colab": {
          "base_uri": "https://localhost:8080/",
          "height": 34
        }
      },
      "source": [
        "print(y, y + 1, y * 2, y ** 2)"
      ],
      "execution_count": 0,
      "outputs": [
        {
          "output_type": "stream",
          "text": [
            "2.5 3.5 5.0 6.25\n"
          ],
          "name": "stdout"
        }
      ]
    },
    {
      "cell_type": "code",
      "metadata": {
        "id": "YecgXRjIyVp-",
        "colab_type": "code",
        "colab": {}
      },
      "source": [
        "t, f = True, False"
      ],
      "execution_count": 0,
      "outputs": []
    },
    {
      "cell_type": "code",
      "metadata": {
        "id": "nmXinuUc1dL8",
        "colab_type": "code",
        "outputId": "aee34d85-9fc0-40e4-c30a-088e8ba79a32",
        "colab": {
          "base_uri": "https://localhost:8080/",
          "height": 34
        }
      },
      "source": [
        "print(type(t))"
      ],
      "execution_count": 0,
      "outputs": [
        {
          "output_type": "stream",
          "text": [
            "<class 'bool'>\n"
          ],
          "name": "stdout"
        }
      ]
    },
    {
      "cell_type": "code",
      "metadata": {
        "id": "i5iUNAC_1gt3",
        "colab_type": "code",
        "outputId": "536ffe81-b0da-40b8-c168-efecf63187d5",
        "colab": {
          "base_uri": "https://localhost:8080/",
          "height": 34
        }
      },
      "source": [
        "print(t and f)"
      ],
      "execution_count": 0,
      "outputs": [
        {
          "output_type": "stream",
          "text": [
            "False\n"
          ],
          "name": "stdout"
        }
      ]
    },
    {
      "cell_type": "code",
      "metadata": {
        "id": "NmN02iqq119-",
        "colab_type": "code",
        "outputId": "0c615ec8-4531-442a-f2e1-d654a4816808",
        "colab": {
          "base_uri": "https://localhost:8080/",
          "height": 34
        }
      },
      "source": [
        "print(t or f)"
      ],
      "execution_count": 0,
      "outputs": [
        {
          "output_type": "stream",
          "text": [
            "True\n"
          ],
          "name": "stdout"
        }
      ]
    },
    {
      "cell_type": "code",
      "metadata": {
        "id": "q7x60RDr14LH",
        "colab_type": "code",
        "outputId": "ec4cb59e-c8ad-4ef0-f3c8-4a895241ffea",
        "colab": {
          "base_uri": "https://localhost:8080/",
          "height": 34
        }
      },
      "source": [
        "print(not f)"
      ],
      "execution_count": 0,
      "outputs": [
        {
          "output_type": "stream",
          "text": [
            "True\n"
          ],
          "name": "stdout"
        }
      ]
    },
    {
      "cell_type": "code",
      "metadata": {
        "id": "l35Yq_5W17nm",
        "colab_type": "code",
        "outputId": "ff3d57c9-feee-45dc-df18-8ca30c54772e",
        "colab": {
          "base_uri": "https://localhost:8080/",
          "height": 34
        }
      },
      "source": [
        "print(t != f)"
      ],
      "execution_count": 0,
      "outputs": [
        {
          "output_type": "stream",
          "text": [
            "True\n"
          ],
          "name": "stdout"
        }
      ]
    },
    {
      "cell_type": "code",
      "metadata": {
        "id": "w98pe-es1_SH",
        "colab_type": "code",
        "colab": {}
      },
      "source": [
        "merhaba = \"merhaba\"\n",
        "dünya = \"dünya\""
      ],
      "execution_count": 0,
      "outputs": []
    },
    {
      "cell_type": "code",
      "metadata": {
        "id": "NWzksvUp2pPk",
        "colab_type": "code",
        "outputId": "35ef54de-e716-4f17-b53e-b270c56c7a26",
        "colab": {
          "base_uri": "https://localhost:8080/",
          "height": 34
        }
      },
      "source": [
        "print(merhaba)"
      ],
      "execution_count": 0,
      "outputs": [
        {
          "output_type": "stream",
          "text": [
            "merhaba\n"
          ],
          "name": "stdout"
        }
      ]
    },
    {
      "cell_type": "code",
      "metadata": {
        "id": "o7HtV7Ta2rIL",
        "colab_type": "code",
        "outputId": "e092cca0-a684-47bb-bef8-08e4afd44ba1",
        "colab": {
          "base_uri": "https://localhost:8080/",
          "height": 34
        }
      },
      "source": [
        "print(len(merhaba))"
      ],
      "execution_count": 0,
      "outputs": [
        {
          "output_type": "stream",
          "text": [
            "7\n"
          ],
          "name": "stdout"
        }
      ]
    },
    {
      "cell_type": "code",
      "metadata": {
        "id": "MZTcLyNP2tc5",
        "colab_type": "code",
        "outputId": "2fe23e10-261e-45e6-e865-69e9fdb99c2a",
        "colab": {
          "base_uri": "https://localhost:8080/",
          "height": 34
        }
      },
      "source": [
        "print(merhaba, len(merhaba))"
      ],
      "execution_count": 0,
      "outputs": [
        {
          "output_type": "stream",
          "text": [
            "merhaba 7\n"
          ],
          "name": "stdout"
        }
      ]
    },
    {
      "cell_type": "code",
      "metadata": {
        "id": "IwMJ2jeq2wf9",
        "colab_type": "code",
        "outputId": "78e16c49-eb8b-4ef7-f08d-22aed532ee9f",
        "colab": {
          "base_uri": "https://localhost:8080/",
          "height": 34
        }
      },
      "source": [
        "print(merhaba + str(len(merhaba)))"
      ],
      "execution_count": 0,
      "outputs": [
        {
          "output_type": "stream",
          "text": [
            "merhaba7\n"
          ],
          "name": "stdout"
        }
      ]
    },
    {
      "cell_type": "code",
      "metadata": {
        "id": "sETU6CuV24Fu",
        "colab_type": "code",
        "outputId": "be54a0ce-09f5-4082-8b59-8d1e967c6065",
        "colab": {
          "base_uri": "https://localhost:8080/",
          "height": 34
        }
      },
      "source": [
        "m7 = '%s %d' % (merhaba, len(merhaba))\n",
        "print(m7)"
      ],
      "execution_count": 0,
      "outputs": [
        {
          "output_type": "stream",
          "text": [
            "merhaba 7\n"
          ],
          "name": "stdout"
        }
      ]
    },
    {
      "cell_type": "code",
      "metadata": {
        "id": "hK6UTwdW4Vrv",
        "colab_type": "code",
        "outputId": "a0e0141f-93d2-4d2d-cf04-a836b4848960",
        "colab": {
          "base_uri": "https://localhost:8080/",
          "height": 34
        }
      },
      "source": [
        "myz = \"merhaba\" + ' ' + \"yapay\" + ' ' + \"zeka\"\n",
        "print(myz)"
      ],
      "execution_count": 0,
      "outputs": [
        {
          "output_type": "stream",
          "text": [
            "merhaba yapay zeka\n"
          ],
          "name": "stdout"
        }
      ]
    },
    {
      "cell_type": "code",
      "metadata": {
        "id": "5DU1ko5j496b",
        "colab_type": "code",
        "outputId": "d48d9364-988f-4df4-f738-985e61d1e4a7",
        "colab": {
          "base_uri": "https://localhost:8080/",
          "height": 118
        }
      },
      "source": [
        "kelime = \"yapay zeka\"\n",
        "print(kelime.capitalize())\n",
        "print(kelime.upper())\n",
        "print(kelime.rjust(150))\n",
        "print(kelime.center(150))\n",
        "print(kelime.replace('zeka', 'zekalar'))\n",
        "print(\"             yapay zeka önemlidir :) \".strip())"
      ],
      "execution_count": 0,
      "outputs": [
        {
          "output_type": "stream",
          "text": [
            "Yapay zeka\n",
            "YAPAY ZEKA\n",
            "                                                                                                                                            yapay zeka\n",
            "                                                                      yapay zeka                                                                      \n",
            "yapay zekalar\n",
            "yapay zeka önemlidir :)\n"
          ],
          "name": "stdout"
        }
      ]
    },
    {
      "cell_type": "code",
      "metadata": {
        "id": "8svkHcxm6A9b",
        "colab_type": "code",
        "colab": {}
      },
      "source": [
        "yas = \"28\""
      ],
      "execution_count": 0,
      "outputs": []
    },
    {
      "cell_type": "code",
      "metadata": {
        "id": "ETdtHldo8Gz-",
        "colab_type": "code",
        "outputId": "62b4f216-e436-40cc-ea3b-455855db805d",
        "colab": {
          "base_uri": "https://localhost:8080/",
          "height": 34
        }
      },
      "source": [
        "isinstance(yas, int)"
      ],
      "execution_count": 0,
      "outputs": [
        {
          "output_type": "execute_result",
          "data": {
            "text/plain": [
              "False"
            ]
          },
          "metadata": {
            "tags": []
          },
          "execution_count": 66
        }
      ]
    },
    {
      "cell_type": "code",
      "metadata": {
        "id": "K4xeO7qe8J-u",
        "colab_type": "code",
        "colab": {}
      },
      "source": [
        "listemiz = [3, 1, 2, 3]"
      ],
      "execution_count": 0,
      "outputs": []
    },
    {
      "cell_type": "code",
      "metadata": {
        "id": "8m6Kqt_A9Zoz",
        "colab_type": "code",
        "outputId": "e5a01e8d-1ac1-4d12-f297-49b7040971b8",
        "colab": {
          "base_uri": "https://localhost:8080/",
          "height": 34
        }
      },
      "source": [
        "print(listemiz)"
      ],
      "execution_count": 0,
      "outputs": [
        {
          "output_type": "stream",
          "text": [
            "[3, 1, 2, 3]\n"
          ],
          "name": "stdout"
        }
      ]
    },
    {
      "cell_type": "code",
      "metadata": {
        "id": "uk7Qf8wT9cy3",
        "colab_type": "code",
        "outputId": "e88d3976-6431-496e-e9dc-fc37558a9cd7",
        "colab": {
          "base_uri": "https://localhost:8080/",
          "height": 34
        }
      },
      "source": [
        "print(listemiz[0])"
      ],
      "execution_count": 0,
      "outputs": [
        {
          "output_type": "stream",
          "text": [
            "3\n"
          ],
          "name": "stdout"
        }
      ]
    },
    {
      "cell_type": "code",
      "metadata": {
        "id": "UMmFDCmI9g2z",
        "colab_type": "code",
        "outputId": "55b5e76f-11bd-46ae-b7c6-1d62964ca727",
        "colab": {
          "base_uri": "https://localhost:8080/",
          "height": 34
        }
      },
      "source": [
        "print(listemiz[1])"
      ],
      "execution_count": 0,
      "outputs": [
        {
          "output_type": "stream",
          "text": [
            "1\n"
          ],
          "name": "stdout"
        }
      ]
    },
    {
      "cell_type": "code",
      "metadata": {
        "id": "MdZ-8A0x9lec",
        "colab_type": "code",
        "outputId": "1d6ccaad-1a2b-440b-e9dc-aec0dadf6cc0",
        "colab": {
          "base_uri": "https://localhost:8080/",
          "height": 34
        }
      },
      "source": [
        "print(listemiz[-1])"
      ],
      "execution_count": 0,
      "outputs": [
        {
          "output_type": "stream",
          "text": [
            "3\n"
          ],
          "name": "stdout"
        }
      ]
    },
    {
      "cell_type": "code",
      "metadata": {
        "id": "jYf89BtJ9oL0",
        "colab_type": "code",
        "outputId": "e9f0ea01-e558-4024-ab88-8051d2c4576f",
        "colab": {
          "base_uri": "https://localhost:8080/",
          "height": 34
        }
      },
      "source": [
        "print(listemiz[-3])"
      ],
      "execution_count": 0,
      "outputs": [
        {
          "output_type": "stream",
          "text": [
            "1\n"
          ],
          "name": "stdout"
        }
      ]
    },
    {
      "cell_type": "code",
      "metadata": {
        "id": "Mznvudq39tZk",
        "colab_type": "code",
        "colab": {}
      },
      "source": [
        "listemiz[2] = 'yapay'"
      ],
      "execution_count": 0,
      "outputs": []
    },
    {
      "cell_type": "code",
      "metadata": {
        "id": "A39du-AD-iPo",
        "colab_type": "code",
        "outputId": "3bf02979-e7a9-418a-ba87-71aabc242f66",
        "colab": {
          "base_uri": "https://localhost:8080/",
          "height": 34
        }
      },
      "source": [
        "print(listemiz)"
      ],
      "execution_count": 0,
      "outputs": [
        {
          "output_type": "stream",
          "text": [
            "[3, 1, 'yapay', 3]\n"
          ],
          "name": "stdout"
        }
      ]
    },
    {
      "cell_type": "code",
      "metadata": {
        "id": "qvIjFaj4-jtk",
        "colab_type": "code",
        "colab": {}
      },
      "source": [
        "listemiz.append('zeka')"
      ],
      "execution_count": 0,
      "outputs": []
    },
    {
      "cell_type": "code",
      "metadata": {
        "id": "ft4Q7tPC-zAq",
        "colab_type": "code",
        "outputId": "8f0e3535-7ab5-409f-cde3-d35fdfaf6c0c",
        "colab": {
          "base_uri": "https://localhost:8080/",
          "height": 34
        }
      },
      "source": [
        "print(listemiz)"
      ],
      "execution_count": 0,
      "outputs": [
        {
          "output_type": "stream",
          "text": [
            "[3, 1, 'yapay', 3, 'zeka']\n"
          ],
          "name": "stdout"
        }
      ]
    },
    {
      "cell_type": "code",
      "metadata": {
        "id": "KiGn2V3_-0rR",
        "colab_type": "code",
        "colab": {}
      },
      "source": [
        "son_eleman = listemiz.pop()"
      ],
      "execution_count": 0,
      "outputs": []
    },
    {
      "cell_type": "code",
      "metadata": {
        "id": "blacwGLq_esf",
        "colab_type": "code",
        "outputId": "7fa9aa31-6280-485e-a913-cd55a8c7755e",
        "colab": {
          "base_uri": "https://localhost:8080/",
          "height": 50
        }
      },
      "source": [
        "print(son_eleman)\n",
        "print(listemiz)"
      ],
      "execution_count": 0,
      "outputs": [
        {
          "output_type": "stream",
          "text": [
            "zeka\n",
            "[3, 1, 'yapay', 3]\n"
          ],
          "name": "stdout"
        }
      ]
    },
    {
      "cell_type": "code",
      "metadata": {
        "id": "F4QVclXb_kb_",
        "colab_type": "code",
        "outputId": "feeee035-4927-468b-cb1d-ccb0ece0868e",
        "colab": {
          "base_uri": "https://localhost:8080/",
          "height": 34
        }
      },
      "source": [
        "listemiz.index('yapay')"
      ],
      "execution_count": 0,
      "outputs": [
        {
          "output_type": "execute_result",
          "data": {
            "text/plain": [
              "2"
            ]
          },
          "metadata": {
            "tags": []
          },
          "execution_count": 80
        }
      ]
    },
    {
      "cell_type": "code",
      "metadata": {
        "id": "FHR0f0yY_qNU",
        "colab_type": "code",
        "outputId": "c9f82f6f-4f74-4f6a-a5ec-01faa7de535d",
        "colab": {
          "base_uri": "https://localhost:8080/",
          "height": 34
        }
      },
      "source": [
        "listemiz.count(3)"
      ],
      "execution_count": 0,
      "outputs": [
        {
          "output_type": "execute_result",
          "data": {
            "text/plain": [
              "2"
            ]
          },
          "metadata": {
            "tags": []
          },
          "execution_count": 81
        }
      ]
    },
    {
      "cell_type": "code",
      "metadata": {
        "id": "PAWoj7Qf_sd1",
        "colab_type": "code",
        "outputId": "2da77838-d195-4e4c-a03d-7d8533c5445c",
        "colab": {
          "base_uri": "https://localhost:8080/",
          "height": 34
        }
      },
      "source": [
        "listemiz.remove('yapay')\n",
        "print(listemiz)"
      ],
      "execution_count": 0,
      "outputs": [
        {
          "output_type": "stream",
          "text": [
            "[3, 1, 3]\n"
          ],
          "name": "stdout"
        }
      ]
    },
    {
      "cell_type": "code",
      "metadata": {
        "id": "XQzmJGIjAZoI",
        "colab_type": "code",
        "colab": {}
      },
      "source": [
        "listemiz.sort()"
      ],
      "execution_count": 0,
      "outputs": []
    },
    {
      "cell_type": "code",
      "metadata": {
        "id": "mmmqFRDnAcpU",
        "colab_type": "code",
        "outputId": "8fd2e9c9-72df-401b-bf97-cd810bcc25b6",
        "colab": {
          "base_uri": "https://localhost:8080/",
          "height": 34
        }
      },
      "source": [
        "listemiz"
      ],
      "execution_count": 0,
      "outputs": [
        {
          "output_type": "execute_result",
          "data": {
            "text/plain": [
              "[1, 3, 3]"
            ]
          },
          "metadata": {
            "tags": []
          },
          "execution_count": 84
        }
      ]
    },
    {
      "cell_type": "code",
      "metadata": {
        "id": "Esfi4_9dAdaf",
        "colab_type": "code",
        "colab": {}
      },
      "source": [
        "listemiz.sort(reverse=True)"
      ],
      "execution_count": 0,
      "outputs": []
    }
  ]
}
