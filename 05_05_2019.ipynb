{
  "nbformat": 4,
  "nbformat_minor": 0,
  "metadata": {
    "colab": {
      "name": "05/05/2019.ipynb",
      "version": "0.3.2",
      "provenance": [],
      "collapsed_sections": [],
      "include_colab_link": true
    },
    "kernelspec": {
      "name": "python3",
      "display_name": "Python 3"
    }
  },
  "cells": [
    {
      "cell_type": "markdown",
      "metadata": {
        "id": "view-in-github",
        "colab_type": "text"
      },
      "source": [
        "<a href=\"https://colab.research.google.com/github/eolmez91/Study-Notes-Kodluyoruz-BOOTCAMP/blob/master/05_05_2019.ipynb\" target=\"_parent\"><img src=\"https://colab.research.google.com/assets/colab-badge.svg\" alt=\"Open In Colab\"/></a>"
      ]
    },
    {
      "cell_type": "code",
      "metadata": {
        "id": "huIOZYSh2asp",
        "colab_type": "code",
        "colab": {}
      },
      "source": [
        "#############-----------NumPy------------##############"
      ],
      "execution_count": 0,
      "outputs": []
    },
    {
      "cell_type": "code",
      "metadata": {
        "id": "aiy8YVNa-_Y0",
        "colab_type": "code",
        "outputId": "cc5bd627-725e-453e-d1cc-ac2472611992",
        "colab": {
          "base_uri": "https://localhost:8080/",
          "height": 34
        }
      },
      "source": [
        "\"\"\"\n",
        "Scalar: tek bir değer 1,3,4...\n",
        "Vector: Yönü ve şiddeti belli 3.0, -1.5\n",
        "Matris: 2 Boyutlu veriler Matrisler\n",
        "Tensor: 3 Boyutlu veriler\n",
        "\"\"\"\n"
      ],
      "execution_count": 0,
      "outputs": [
        {
          "output_type": "execute_result",
          "data": {
            "text/plain": [
              "'\\nScalar: tek bir değer 1,3,4...\\nVector: Yönü ve şiddeti belli 3.0, -1.5\\nMatris: 2 Boyutlu veriler Matrisler\\nTensor: 3 Boyutlu veriler\\n'"
            ]
          },
          "metadata": {
            "tags": []
          },
          "execution_count": 2
        }
      ]
    },
    {
      "cell_type": "code",
      "metadata": {
        "id": "UEJvMJKCA_rE",
        "colab_type": "code",
        "colab": {}
      },
      "source": [
        "import numpy as np"
      ],
      "execution_count": 0,
      "outputs": []
    },
    {
      "cell_type": "code",
      "metadata": {
        "id": "8UXGaAmnBDNF",
        "colab_type": "code",
        "outputId": "f065bb4a-10b5-4479-f80e-4c2d6b021484",
        "colab": {
          "base_uri": "https://localhost:8080/",
          "height": 101
        }
      },
      "source": [
        "a = np.array([1,2,3]) # Birinci dereceden dizi tanımlayalaım\n",
        "\n",
        "print(type(a))          # Dizinin veri tiğini yazdıralım\n",
        "print(a.shape)          # Dizinin şeklini yazdıralım\n",
        "print(a.ndim)           # Dizinin boyutunu yazdıralım\n",
        "print(a[0], a[1], a[2]) # Dizinin her bir elemanı ayrı ayrı yazdıralım\n",
        "a[0] = 5                # Dizinin ilk elamanını 5 ile değiştirelim\n",
        "print(a)"
      ],
      "execution_count": 0,
      "outputs": [
        {
          "output_type": "stream",
          "text": [
            "<class 'numpy.ndarray'>\n",
            "(3,)\n",
            "1\n",
            "1 2 3\n",
            "[5 2 3]\n"
          ],
          "name": "stdout"
        }
      ]
    },
    {
      "cell_type": "code",
      "metadata": {
        "id": "w-s07gY7CFpB",
        "colab_type": "code",
        "outputId": "22066ac6-33b9-4fc3-875d-33ba54c0b23f",
        "colab": {
          "base_uri": "https://localhost:8080/",
          "height": 101
        }
      },
      "source": [
        "b = np.array([[1,2,3], [4,5,6]]) # İkinci dereceden dizi tanımlayalım\n",
        "\n",
        "print(b)\n",
        "print(b.ndim)\n",
        "print(b.shape)\n",
        "print(b[0, 0], b[0,1], b[1,0])\n"
      ],
      "execution_count": 0,
      "outputs": [
        {
          "output_type": "stream",
          "text": [
            "[[1 2 3]\n",
            " [4 5 6]]\n",
            "2\n",
            "(2, 3)\n",
            "[0, 0] 2 4\n"
          ],
          "name": "stdout"
        }
      ]
    },
    {
      "cell_type": "code",
      "metadata": {
        "id": "dYXNlXaODPvd",
        "colab_type": "code",
        "outputId": "e68ab9cf-d154-4adf-b9d3-7175d5dc63a8",
        "colab": {
          "base_uri": "https://localhost:8080/",
          "height": 118
        }
      },
      "source": [
        "c = np.array([[[1,2,3], [4,5,6], [7,8,9]]]) \n",
        "\n",
        "print(c)\n",
        "print(c.ndim)\n",
        "print(c.shape)\n",
        "print(c[0,1,0])"
      ],
      "execution_count": 0,
      "outputs": [
        {
          "output_type": "stream",
          "text": [
            "[[[1 2 3]\n",
            "  [4 5 6]\n",
            "  [7 8 9]]]\n",
            "3\n",
            "(1, 3, 3)\n",
            "4\n"
          ],
          "name": "stdout"
        }
      ]
    },
    {
      "cell_type": "code",
      "metadata": {
        "id": "tTIdclDkE5w7",
        "colab_type": "code",
        "outputId": "df825488-b38b-452b-fef6-3c720255b672",
        "colab": {
          "base_uri": "https://localhost:8080/",
          "height": 235
        }
      },
      "source": [
        "a = np.zeros((2,2,)) # Tüm elemanları \"sıfır\" olan 2 x 2 boyutlu dizi\n",
        "print(a)\n",
        "\n",
        "b = np.ones((1,2))   # Tün elemanları \"bir\" olan 1x2 boyutlu dizi\n",
        "print(b)\n",
        "\n",
        "c = np.full((2,2,), 7) # Tüm elemanları \"yedi\" olan 2x2 boyutlu dizi\n",
        "print(c)\n",
        "\n",
        "d = np.empty((4,5))\n",
        "print(d)"
      ],
      "execution_count": 0,
      "outputs": [
        {
          "output_type": "stream",
          "text": [
            "[[0. 0.]\n",
            " [0. 0.]]\n",
            "[[1. 1.]]\n",
            "[[7 7]\n",
            " [7 7]]\n",
            "[[1.93446700e-316 2.33419537e-312 8.48798317e-313 2.56761491e-312\n",
            "  2.14321575e-312]\n",
            " [2.07955588e-312 1.01855798e-312 6.79038653e-313 1.97345609e-312\n",
            "  6.79038653e-313]\n",
            " [1.93101617e-312 9.33678148e-313 1.97345609e-312 6.79038653e-313\n",
            "  1.93101617e-312]\n",
            " [9.33678148e-313 1.97345609e-312 8.70018274e-313 2.27462358e-307\n",
            "  1.36621061e+161]]\n"
          ],
          "name": "stdout"
        }
      ]
    },
    {
      "cell_type": "code",
      "metadata": {
        "id": "j20pRJ-GJW9H",
        "colab_type": "code",
        "outputId": "8b517e24-ba7b-4e3b-868f-329aafc298fc",
        "colab": {
          "base_uri": "https://localhost:8080/",
          "height": 202
        }
      },
      "source": [
        "e = np.eye(4)      # 2 x 2 boyutlu birim matris\n",
        "print(e)\n",
        "\n",
        "f = np.random.random((5,5))  # 5 x 5 boyutlu rastgele değerlerden oluşan matris\n",
        "print(f)\n",
        "\n",
        "g = np.arange(0,10,1) # 0'dan 10'a (hariç) aralarına 1 olan\n",
        "print(g)\n",
        "\n",
        "h = np.linspace(0,9,10) # 0'dan 9'a (dahil) 10 adet sayı\n",
        "print(h)"
      ],
      "execution_count": 0,
      "outputs": [
        {
          "output_type": "stream",
          "text": [
            "[[1. 0. 0. 0.]\n",
            " [0. 1. 0. 0.]\n",
            " [0. 0. 1. 0.]\n",
            " [0. 0. 0. 1.]]\n",
            "[[0.21625562 0.89223982 0.58296445 0.88929313 0.83207022]\n",
            " [0.66034205 0.37113799 0.57703591 0.50012762 0.86292683]\n",
            " [0.27682684 0.42274781 0.44770721 0.0724699  0.17570322]\n",
            " [0.61123827 0.17731105 0.27018867 0.43633884 0.99584457]\n",
            " [0.05240526 0.51883283 0.89153374 0.22813118 0.40417438]]\n",
            "[0 1 2 3 4 5 6 7 8 9]\n",
            "[0. 1. 2. 3. 4. 5. 6. 7. 8. 9.]\n"
          ],
          "name": "stdout"
        }
      ]
    },
    {
      "cell_type": "code",
      "metadata": {
        "id": "kQB6W7OHLFqj",
        "colab_type": "code",
        "outputId": "ff4ec42c-674e-4add-c28d-31da3c59c59e",
        "colab": {
          "base_uri": "https://localhost:8080/",
          "height": 168
        }
      },
      "source": [
        "print(np.random.randint(1))\n",
        "print(np.random.randint(10))\n",
        "print(np.random.randint(5,10))\n",
        "print(np.random.randint(5,10, size = 10))\n",
        "print(np.random.randint(5,10, size = (5,4)))"
      ],
      "execution_count": 0,
      "outputs": [
        {
          "output_type": "stream",
          "text": [
            "0\n",
            "4\n",
            "5\n",
            "[7 6 9 5 9 5 9 7 8 5]\n",
            "[[9 7 5 5]\n",
            " [7 9 8 7]\n",
            " [6 7 7 8]\n",
            " [9 6 8 8]\n",
            " [5 8 9 9]]\n"
          ],
          "name": "stdout"
        }
      ]
    },
    {
      "cell_type": "code",
      "metadata": {
        "id": "6g2jW6rER3Bq",
        "colab_type": "code",
        "outputId": "72186fb4-207a-481e-9f29-f57ac2a69cc4",
        "colab": {
          "base_uri": "https://localhost:8080/",
          "height": 504
        }
      },
      "source": [
        "print(np.random.rand(10))\n",
        "print(np.random.rand(5,10))\n",
        "\n",
        "print(np.random.randn(10))\n",
        "print(np.random.randn(5,10))"
      ],
      "execution_count": 0,
      "outputs": [
        {
          "output_type": "stream",
          "text": [
            "[0.57161202 0.86901623 0.82136159 0.40886756 0.10703534 0.64871298\n",
            " 0.94248739 0.78497866 0.1257119  0.85771876]\n",
            "[[0.76663251 0.20720024 0.11313308 0.04435921 0.40107121 0.06875536\n",
            "  0.73761525 0.9644321  0.61300518 0.51534948]\n",
            " [0.45074321 0.48532151 0.82008651 0.6910482  0.03813354 0.46696109\n",
            "  0.40069673 0.33024996 0.67392228 0.98461217]\n",
            " [0.80860585 0.80454659 0.76878583 0.7494902  0.63853717 0.0250091\n",
            "  0.1098959  0.21795556 0.91219458 0.44734853]\n",
            " [0.27619466 0.74602259 0.99713059 0.36603847 0.56945846 0.31788041\n",
            "  0.44818972 0.18844283 0.79127225 0.23216115]\n",
            " [0.50548284 0.18116412 0.84553667 0.51698211 0.53243467 0.33658289\n",
            "  0.07638843 0.18651821 0.77802364 0.30102811]]\n",
            "[ 1.36060893 -0.08656412 -0.04316986  1.30094275  1.31795638 -0.53610413\n",
            " -0.60655309 -0.55406488  1.11979631  1.34284396]\n",
            "[[-3.60029347e-01  6.34815386e-03 -6.19467287e-03  3.89417032e-01\n",
            "   1.56741251e+00  2.07690172e-01 -7.11134393e-01  1.49487230e+00\n",
            "   4.56279436e-01  1.02597018e+00]\n",
            " [-2.86471285e-01  9.68082622e-01 -1.80148622e+00 -1.47934486e+00\n",
            "   1.03515997e+00 -1.31228967e+00 -2.67913351e-01  7.36679437e-01\n",
            "  -1.90416326e+00 -1.01675348e+00]\n",
            " [ 1.59234519e+00  8.44982411e-01 -2.82646019e-01  2.38126291e+00\n",
            "  -1.91316358e+00  1.36511655e+00  1.12293905e+00 -1.38611443e+00\n",
            "   1.19250094e+00 -1.70285425e+00]\n",
            " [ 1.47878174e+00  1.00166469e+00 -1.65613530e-01  1.05991382e+00\n",
            "   1.43260519e+00 -1.61007276e-01  9.96769814e-01  6.51448359e-02\n",
            "  -5.39323990e-01  2.49420906e-01]\n",
            " [ 3.13438816e-01  1.10411315e+00 -1.52102072e+00 -4.59499760e-01\n",
            "  -3.93482475e-01  4.49370072e-01 -4.74128099e-01  2.18373222e-03\n",
            "  -1.61335695e+00  7.18836415e-01]]\n"
          ],
          "name": "stdout"
        }
      ]
    },
    {
      "cell_type": "code",
      "metadata": {
        "id": "fn9bZOrqSimd",
        "colab_type": "code",
        "outputId": "6cc64ceb-d0fd-41a6-dedf-09e61e3b1934",
        "colab": {
          "base_uri": "https://localhost:8080/",
          "height": 229
        }
      },
      "source": [
        "dizim = np.array([11,22,23,14,5,36,7,3,9,5,11,133,13,5,66])\n",
        "\n",
        "dizim.shape\n",
        "\n",
        "dizim.reshape(5,3)"
      ],
      "execution_count": 0,
      "outputs": [
        {
          "output_type": "error",
          "ename": "NameError",
          "evalue": "ignored",
          "traceback": [
            "\u001b[0;31m---------------------------------------------------------------------------\u001b[0m",
            "\u001b[0;31mNameError\u001b[0m                                 Traceback (most recent call last)",
            "\u001b[0;32m<ipython-input-1-ea843a94dad3>\u001b[0m in \u001b[0;36m<module>\u001b[0;34m()\u001b[0m\n\u001b[0;32m----> 1\u001b[0;31m \u001b[0mdizim\u001b[0m \u001b[0;34m=\u001b[0m \u001b[0mnp\u001b[0m\u001b[0;34m.\u001b[0m\u001b[0marray\u001b[0m\u001b[0;34m(\u001b[0m\u001b[0;34m[\u001b[0m\u001b[0;36m11\u001b[0m\u001b[0;34m,\u001b[0m\u001b[0;36m22\u001b[0m\u001b[0;34m,\u001b[0m\u001b[0;36m23\u001b[0m\u001b[0;34m,\u001b[0m\u001b[0;36m14\u001b[0m\u001b[0;34m,\u001b[0m\u001b[0;36m5\u001b[0m\u001b[0;34m,\u001b[0m\u001b[0;36m36\u001b[0m\u001b[0;34m,\u001b[0m\u001b[0;36m7\u001b[0m\u001b[0;34m,\u001b[0m\u001b[0;36m3\u001b[0m\u001b[0;34m,\u001b[0m\u001b[0;36m9\u001b[0m\u001b[0;34m,\u001b[0m\u001b[0;36m5\u001b[0m\u001b[0;34m,\u001b[0m\u001b[0;36m11\u001b[0m\u001b[0;34m,\u001b[0m\u001b[0;36m133\u001b[0m\u001b[0;34m,\u001b[0m\u001b[0;36m13\u001b[0m\u001b[0;34m,\u001b[0m\u001b[0;36m5\u001b[0m\u001b[0;34m,\u001b[0m\u001b[0;36m66\u001b[0m\u001b[0;34m]\u001b[0m\u001b[0;34m)\u001b[0m\u001b[0;34m\u001b[0m\u001b[0;34m\u001b[0m\u001b[0m\n\u001b[0m\u001b[1;32m      2\u001b[0m \u001b[0;34m\u001b[0m\u001b[0m\n\u001b[1;32m      3\u001b[0m \u001b[0mdizim\u001b[0m\u001b[0;34m.\u001b[0m\u001b[0mshape\u001b[0m\u001b[0;34m\u001b[0m\u001b[0;34m\u001b[0m\u001b[0m\n\u001b[1;32m      4\u001b[0m \u001b[0;34m\u001b[0m\u001b[0m\n\u001b[1;32m      5\u001b[0m \u001b[0mdizim\u001b[0m\u001b[0;34m.\u001b[0m\u001b[0mreshape\u001b[0m\u001b[0;34m(\u001b[0m\u001b[0;36m5\u001b[0m\u001b[0;34m,\u001b[0m\u001b[0;36m3\u001b[0m\u001b[0;34m)\u001b[0m\u001b[0;34m\u001b[0m\u001b[0;34m\u001b[0m\u001b[0m\n",
            "\u001b[0;31mNameError\u001b[0m: name 'np' is not defined"
          ]
        }
      ]
    },
    {
      "cell_type": "code",
      "metadata": {
        "id": "c5AJdtPOSvW1",
        "colab_type": "code",
        "outputId": "7b6e8180-a914-4ff6-84ae-1353fd1a3144",
        "colab": {
          "base_uri": "https://localhost:8080/",
          "height": 101
        }
      },
      "source": [
        "dizim.resize(5,3)\n",
        "print(dizim)"
      ],
      "execution_count": 0,
      "outputs": [
        {
          "output_type": "stream",
          "text": [
            "[[ 11  22  23]\n",
            " [ 14   5  36]\n",
            " [  7   3   9]\n",
            " [  5  11 133]\n",
            " [ 13   5  66]]\n"
          ],
          "name": "stdout"
        }
      ]
    },
    {
      "cell_type": "code",
      "metadata": {
        "id": "0hIvtoFzTfoi",
        "colab_type": "code",
        "colab": {}
      },
      "source": [
        "# Dizilerde temel işlemler"
      ],
      "execution_count": 0,
      "outputs": []
    },
    {
      "cell_type": "code",
      "metadata": {
        "id": "zM64aa-mT5T-",
        "colab_type": "code",
        "outputId": "be83ab7d-2f44-4874-e23d-4c205f6f9b48",
        "colab": {
          "base_uri": "https://localhost:8080/",
          "height": 134
        }
      },
      "source": [
        "dizim = dizim.ravel()\n",
        "\n",
        "print(dizim)\n",
        "\n",
        "print(dizim.size)\n",
        "\n",
        "print(dizim.dtype) # elemanların veri tipini gösterir\n",
        "\n",
        "print(dizim.max())\n",
        "\n",
        "print(dizim.min())\n",
        "\n",
        "dizim[::-1]"
      ],
      "execution_count": 0,
      "outputs": [
        {
          "output_type": "stream",
          "text": [
            "[ 11  22  23  14   5  36   7   3   9   5  11 133  13   5  66]\n",
            "15\n",
            "int64\n",
            "133\n",
            "3\n"
          ],
          "name": "stdout"
        },
        {
          "output_type": "execute_result",
          "data": {
            "text/plain": [
              "array([ 66,   5,  13, 133,  11,   5,   9,   3,   7,  36,   5,  14,  23,\n",
              "        22,  11])"
            ]
          },
          "metadata": {
            "tags": []
          },
          "execution_count": 43
        }
      ]
    },
    {
      "cell_type": "code",
      "metadata": {
        "id": "eq7DZPF7UHpt",
        "colab_type": "code",
        "colab": {}
      },
      "source": [
        "# Arkaarkaya \"::\" Baştan başla sona kadar git."
      ],
      "execution_count": 0,
      "outputs": []
    },
    {
      "cell_type": "code",
      "metadata": {
        "id": "q0Cd9yOLUewM",
        "colab_type": "code",
        "outputId": "c10d8233-d21f-42b0-e7bc-a9f8bbbd55a0",
        "colab": {
          "base_uri": "https://localhost:8080/",
          "height": 84
        }
      },
      "source": [
        "yeni = np.random.randint(1,100,10)\n",
        "\n",
        "print(yeni)\n",
        "\n",
        "print(yeni.argmax()) # Maksimum indeks değeri\n",
        "\n",
        "print(yeni.argmin()) # Minimum indeks değeri\n",
        "\n",
        "print(yeni.mean())   # Ortalamalarını alır\n"
      ],
      "execution_count": 0,
      "outputs": [
        {
          "output_type": "stream",
          "text": [
            "[44 81 47 13 33 19 98 48 58 87]\n",
            "6\n",
            "3\n",
            "52.8\n"
          ],
          "name": "stdout"
        }
      ]
    },
    {
      "cell_type": "code",
      "metadata": {
        "id": "DRa7X1kTUmjf",
        "colab_type": "code",
        "outputId": "9e70aab6-ee8c-43cc-aa06-f272dd29a41e",
        "colab": {
          "base_uri": "https://localhost:8080/",
          "height": 50
        }
      },
      "source": [
        "a = np.array([[1,2], [3,4]])\n",
        "b = np.array([[5,6], [7,8]])\n",
        "\n",
        "np.vstack((a,b)) # vertical (dikey) birleştirme, alt alta ekler\n",
        "\n",
        "np.hstack((a,b)) # horizantal (yatay) birleştirme, yan yana ekler"
      ],
      "execution_count": 0,
      "outputs": [
        {
          "output_type": "execute_result",
          "data": {
            "text/plain": [
              "array([[1, 2, 5, 6],\n",
              "       [3, 4, 7, 8]])"
            ]
          },
          "metadata": {
            "tags": []
          },
          "execution_count": 49
        }
      ]
    },
    {
      "cell_type": "code",
      "metadata": {
        "id": "ElUIl0nRVT3s",
        "colab_type": "code",
        "outputId": "eccc0569-95ec-4e0d-ecec-3ca4b423457b",
        "colab": {
          "base_uri": "https://localhost:8080/",
          "height": 403
        }
      },
      "source": [
        "dizi = np.array([0,1,2,3,4,5,6,7,8,9,]).reshape(5,2)\n",
        "\n",
        "# Diziyi yazdıralım\n",
        "print(\"Orjinal\")\n",
        "print(dizi)\n",
        "\n",
        "# Satır bazlı birleştirme\n",
        "print(\"Satır bazlı birleştirilmiş\")\n",
        "print(np.concatenate([dizi, dizi], axis = 0))\n",
        "\n",
        "# Sütun bazlı birleştirme\n",
        "print(\"Sütun bazlı birleştirme\")\n",
        "print(np.concatenate([dizi, dizi], axis = 1))"
      ],
      "execution_count": 0,
      "outputs": [
        {
          "output_type": "stream",
          "text": [
            "Orjinal\n",
            "[[0 1]\n",
            " [2 3]\n",
            " [4 5]\n",
            " [6 7]\n",
            " [8 9]]\n",
            "Satır bazlı birleştirilmiş\n",
            "[[0 1]\n",
            " [2 3]\n",
            " [4 5]\n",
            " [6 7]\n",
            " [8 9]\n",
            " [0 1]\n",
            " [2 3]\n",
            " [4 5]\n",
            " [6 7]\n",
            " [8 9]]\n",
            "Sütun bazlı birleştirme\n",
            "[[0 1 0 1]\n",
            " [2 3 2 3]\n",
            " [4 5 4 5]\n",
            " [6 7 6 7]\n",
            " [8 9 8 9]]\n"
          ],
          "name": "stdout"
        }
      ]
    },
    {
      "cell_type": "code",
      "metadata": {
        "id": "tSuOAWJhXIMd",
        "colab_type": "code",
        "outputId": "d217c6d1-fab4-4551-8a9b-9ab32ab6be91",
        "colab": {
          "base_uri": "https://localhost:8080/",
          "height": 50
        }
      },
      "source": [
        "# Dizilerde Dilimleme (Slicing)\n",
        "\n",
        "a = np.array([[1,2,3,4],\n",
        "              [5,6,7,8],\n",
        "             [9,10,11,12]])\n",
        "\n",
        "b = a[:2, 1:3]   # 0. ve 1.satır / 1. ve 2. sütun\n",
        "\n",
        "print(b)"
      ],
      "execution_count": 0,
      "outputs": [
        {
          "output_type": "stream",
          "text": [
            "[[2 3]\n",
            " [6 7]]\n"
          ],
          "name": "stdout"
        }
      ]
    },
    {
      "cell_type": "code",
      "metadata": {
        "id": "iYMOWGBJXqh8",
        "colab_type": "code",
        "outputId": "1fd5e68f-d6fe-4ac7-cadf-3fdf287f2136",
        "colab": {
          "base_uri": "https://localhost:8080/",
          "height": 50
        }
      },
      "source": [
        "print(a[0,1])\n",
        "\n",
        "b[0, 0] = 77 # b[0,0] ile aslında a[0,1]'yı işaret ediypurz\n",
        "\n",
        "print (a[0,1]) # değişmesini istemiyorsak b = a.copy()"
      ],
      "execution_count": 0,
      "outputs": [
        {
          "output_type": "stream",
          "text": [
            "2\n",
            "77\n"
          ],
          "name": "stdout"
        }
      ]
    },
    {
      "cell_type": "code",
      "metadata": {
        "id": "TWzhT1UWYbzt",
        "colab_type": "code",
        "outputId": "5cbe80b0-99ed-426a-a022-87b530fb424c",
        "colab": {
          "base_uri": "https://localhost:8080/",
          "height": 67
        }
      },
      "source": [
        "satir_v1 = a[1, :]   # İkinci satırın 1. dereceden görünüşü\n",
        "satir_v2 = a[1:2, :] # İkinci satırın 2. dereceden görünüşü\n",
        "satir_v3 = a[[1], :] # İkinci satırın 3. dereceden görünüşü\n",
        "\n",
        "print(satir_v1, satir_v1.shape)\n",
        "print(satir_v2, satir_v2.shape)\n",
        "print(satir_v3, satir_v3.shape)"
      ],
      "execution_count": 0,
      "outputs": [
        {
          "output_type": "stream",
          "text": [
            "[5 6 7 8] (4,)\n",
            "[[5 6 7 8]] (1, 4)\n",
            "[[5 6 7 8]] (1, 4)\n"
          ],
          "name": "stdout"
        }
      ]
    },
    {
      "cell_type": "code",
      "metadata": {
        "id": "8cGt3TwAZDmN",
        "colab_type": "code",
        "outputId": "69a32c00-3752-4568-9fe1-75a653dc97e5",
        "colab": {
          "base_uri": "https://localhost:8080/",
          "height": 84
        }
      },
      "source": [
        "sutun_v1 = a[:, 1]\n",
        "sutun_v2 = a[:, 1:2]\n",
        "\n",
        "print(sutun_v1, sutun_v1.shape) # 1. derece\n",
        "print(sutun_v2, sutun_v2.shape) # 2. derece"
      ],
      "execution_count": 0,
      "outputs": [
        {
          "output_type": "stream",
          "text": [
            "[ 2  6 10] (3,)\n",
            "[[ 2]\n",
            " [ 6]\n",
            " [10]] (3, 1)\n"
          ],
          "name": "stdout"
        }
      ]
    },
    {
      "cell_type": "code",
      "metadata": {
        "id": "USxIyn7AamtA",
        "colab_type": "code",
        "outputId": "c08e8488-93a5-4e7e-ead8-0478f83d1e2c",
        "colab": {
          "base_uri": "https://localhost:8080/",
          "height": 50
        }
      },
      "source": [
        "a = np.array([[1,2], [3,4], [5,6]])\n",
        "\n",
        "# a[0,0], a[1,1] ve a[2,0]'ı indekslemek için\n",
        "print(a[[0,1,2], [0,1, 0]])\n",
        "\n",
        "# Ayrı ayrı indeksleme yapalım\n",
        "print(np.array([a[0,0], a[1,1], a[2,0]]))"
      ],
      "execution_count": 0,
      "outputs": [
        {
          "output_type": "stream",
          "text": [
            "[1 4 5]\n",
            "[1 4 5]\n"
          ],
          "name": "stdout"
        }
      ]
    },
    {
      "cell_type": "code",
      "metadata": {
        "id": "3FYdbUsPba1e",
        "colab_type": "code",
        "outputId": "31d3cd91-48b9-47cb-bd3b-ecddf0edbcd3",
        "colab": {
          "base_uri": "https://localhost:8080/",
          "height": 101
        }
      },
      "source": [
        "a = np.array([[1,2,3], [4,5,6], [7,8,9], [10,11,12]])\n",
        "print(a)\n",
        "\n",
        "# İndis dizisi oluşturalım\n",
        "indis = np.array([0, 2, 0, 1])\n",
        "\n",
        "# Her satırdan sırasıyla indis dizisini kullanarak değerleri seçelim\n",
        "print(a[np.arange(4), indis]) # \"[1 6 7 11]\""
      ],
      "execution_count": 0,
      "outputs": [
        {
          "output_type": "stream",
          "text": [
            "[[ 1  2  3]\n",
            " [ 4  5  6]\n",
            " [ 7  8  9]\n",
            " [10 11 12]]\n",
            "[ 1  6  7 11]\n"
          ],
          "name": "stdout"
        }
      ]
    },
    {
      "cell_type": "code",
      "metadata": {
        "id": "sGelaVaicQPP",
        "colab_type": "code",
        "outputId": "722cbea2-3893-4ecd-9f06-9f88ff6fda78",
        "colab": {
          "base_uri": "https://localhost:8080/",
          "height": 84
        }
      },
      "source": [
        "# İndis dizisini kullanarak elemanlara 10 ekleyelim\n",
        "a[np.arange(4), indis] += 10\n",
        "\n",
        "print(a)"
      ],
      "execution_count": 0,
      "outputs": [
        {
          "output_type": "stream",
          "text": [
            "[[11  2  3]\n",
            " [ 4  5 16]\n",
            " [17  8  9]\n",
            " [10 21 12]]\n"
          ],
          "name": "stdout"
        }
      ]
    },
    {
      "cell_type": "code",
      "metadata": {
        "id": "NT_eTZq9c003",
        "colab_type": "code",
        "colab": {}
      },
      "source": [
        "# sigmoid fonksiyonu tanımlama ÖDEV"
      ],
      "execution_count": 0,
      "outputs": []
    },
    {
      "cell_type": "code",
      "metadata": {
        "id": "WpZUHd5HiNoc",
        "colab_type": "code",
        "colab": {}
      },
      "source": [
        ""
      ],
      "execution_count": 0,
      "outputs": []
    }
  ]
}