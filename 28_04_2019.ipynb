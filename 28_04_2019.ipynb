{
  "nbformat": 4,
  "nbformat_minor": 0,
  "metadata": {
    "colab": {
      "name": "28/04/2019.ipynb",
      "version": "0.3.2",
      "provenance": [],
      "collapsed_sections": [],
      "include_colab_link": true
    },
    "kernelspec": {
      "name": "python3",
      "display_name": "Python 3"
    }
  },
  "cells": [
    {
      "cell_type": "markdown",
      "metadata": {
        "id": "view-in-github",
        "colab_type": "text"
      },
      "source": [
        "<a href=\"https://colab.research.google.com/github/eolmez91/Study-Notes-Kodluyoruz-BOOTCAMP/blob/master/28_04_2019.ipynb\" target=\"_parent\"><img src=\"https://colab.research.google.com/assets/colab-badge.svg\" alt=\"Open In Colab\"/></a>"
      ]
    },
    {
      "cell_type": "code",
      "metadata": {
        "id": "Xxp9iyCq3O2Q",
        "colab_type": "code",
        "colab": {}
      },
      "source": [
        "#Sözlük Verilerine Başlama"
      ],
      "execution_count": 0,
      "outputs": []
    },
    {
      "cell_type": "code",
      "metadata": {
        "id": "6Dd6hkEi5QvW",
        "colab_type": "code",
        "colab": {}
      },
      "source": [
        "ilçeler = {\"İstanbul\": [\"Kadıköy\", \"Beşiktaş\", \"Beyoplu\"],\n",
        "           \"Ankara\"   : [\"Çanjaya\", \"Beypazarı\", \"Mamak\"],\n",
        "           \"İzmir\"    : [\"Konak\", \"karşıyaka\", \"Çeşme\"]}"
      ],
      "execution_count": 0,
      "outputs": []
    },
    {
      "cell_type": "code",
      "metadata": {
        "id": "dgVIxNDO5yE_",
        "colab_type": "code",
        "outputId": "0181ba2b-af3b-4e0e-8079-2fbc4758af81",
        "colab": {
          "base_uri": "https://localhost:8080/",
          "height": 34
        }
      },
      "source": [
        "print(ilçeler['İstanbul'])"
      ],
      "execution_count": 2,
      "outputs": [
        {
          "output_type": "stream",
          "text": [
            "['Kadıköy', 'Beşiktaş', 'Beyoplu']\n"
          ],
          "name": "stdout"
        }
      ]
    },
    {
      "cell_type": "code",
      "metadata": {
        "id": "3tMXLk6d582r",
        "colab_type": "code",
        "outputId": "8b1a0f9e-8ae8-463a-dc36-2f925c1af836",
        "colab": {
          "base_uri": "https://localhost:8080/",
          "height": 128
        }
      },
      "source": [
        "sayilar = [0, 1, 2, 3, 4, 5, 6, 7, 8, 0]\n",
        "\n",
        "cift_kare = {x: x** 2 or x in sayilar if x ==}\n",
        "print(cift_sayilar)"
      ],
      "execution_count": 8,
      "outputs": [
        {
          "output_type": "error",
          "ename": "SyntaxError",
          "evalue": "ignored",
          "traceback": [
            "\u001b[0;36m  File \u001b[0;32m\"<ipython-input-8-f7e1256dee0a>\"\u001b[0;36m, line \u001b[0;32m3\u001b[0m\n\u001b[0;31m    cift_kare = {x: x** 2 or x in sayilar if x == (x%2==0)}\u001b[0m\n\u001b[0m                                                          ^\u001b[0m\n\u001b[0;31mSyntaxError\u001b[0m\u001b[0;31m:\u001b[0m invalid syntax\n"
          ]
        }
      ]
    },
    {
      "cell_type": "code",
      "metadata": {
        "id": "Zzm3Cg6m6s96",
        "colab_type": "code",
        "colab": {}
      },
      "source": [
        "#Kümeler (Sets)\n",
        "\n",
        "hayvanlar = {'kedi', 'köpek'}"
      ],
      "execution_count": 0,
      "outputs": []
    },
    {
      "cell_type": "code",
      "metadata": {
        "id": "vL9XY1Wl659S",
        "colab_type": "code",
        "outputId": "01f2620a-131f-4dcf-9198-1d86efcce40c",
        "colab": {
          "base_uri": "https://localhost:8080/",
          "height": 50
        }
      },
      "source": [
        "print('kedi' in hayvanlar)\n",
        "print('balık' in hayvanlar)"
      ],
      "execution_count": 0,
      "outputs": [
        {
          "output_type": "stream",
          "text": [
            "True\n",
            "False\n"
          ],
          "name": "stdout"
        }
      ]
    },
    {
      "cell_type": "code",
      "metadata": {
        "id": "GDUgpdqI7Dkb",
        "colab_type": "code",
        "outputId": "388e2907-1947-484e-e20a-764424dd17d6",
        "colab": {
          "base_uri": "https://localhost:8080/",
          "height": 34
        }
      },
      "source": [
        "hayvanlar.add('balık')\n",
        "print('balık' in hayvanlar)"
      ],
      "execution_count": 0,
      "outputs": [
        {
          "output_type": "stream",
          "text": [
            "True\n"
          ],
          "name": "stdout"
        }
      ]
    },
    {
      "cell_type": "code",
      "metadata": {
        "id": "iwAYPn8D7ku3",
        "colab_type": "code",
        "outputId": "fb8e91e4-d2fe-461b-bb06-575a0e176aae",
        "colab": {
          "base_uri": "https://localhost:8080/",
          "height": 34
        }
      },
      "source": [
        "print(len(hayvanlar))"
      ],
      "execution_count": 0,
      "outputs": [
        {
          "output_type": "stream",
          "text": [
            "3\n"
          ],
          "name": "stdout"
        }
      ]
    },
    {
      "cell_type": "code",
      "metadata": {
        "id": "zbVQR_H57m0E",
        "colab_type": "code",
        "outputId": "f552c19a-f1d2-46e2-c8a5-246e5a61b524",
        "colab": {
          "base_uri": "https://localhost:8080/",
          "height": 34
        }
      },
      "source": [
        "hayvanlar.remove('kedi')\n",
        "print(len(hayvanlar))"
      ],
      "execution_count": 0,
      "outputs": [
        {
          "output_type": "stream",
          "text": [
            "1\n"
          ],
          "name": "stdout"
        }
      ]
    },
    {
      "cell_type": "code",
      "metadata": {
        "id": "znNQbUt-775p",
        "colab_type": "code",
        "colab": {}
      },
      "source": [
        "from math import sqrt"
      ],
      "execution_count": 0,
      "outputs": []
    },
    {
      "cell_type": "code",
      "metadata": {
        "id": "13TbDIHR8Wfh",
        "colab_type": "code",
        "outputId": "a5b851ba-e8b0-4d73-dce6-ade0e18d55d7",
        "colab": {
          "base_uri": "https://localhost:8080/",
          "height": 54
        }
      },
      "source": [
        "print({sqrt(x) for x in list(range(30))})"
      ],
      "execution_count": 0,
      "outputs": [
        {
          "output_type": "stream",
          "text": [
            "{0.0, 1.0, 2.0, 1.7320508075688772, 1.4142135623730951, 2.23606797749979, 2.449489742783178, 2.6457513110645907, 2.8284271247461903, 3.0, 3.1622776601683795, 3.3166247903554, 3.4641016151377544, 4.0, 5.0, 4.47213595499958, 4.795831523312719, 4.898979485566356, 5.0990195135927845, 5.196152422706632, 5.291502622129181, 3.7416573867739413, 3.872983346207417, 4.123105625617661, 4.242640687119285, 4.358898943540674, 4.58257569495584, 4.69041575982343, 5.385164807134504, 3.605551275463989}\n"
          ],
          "name": "stdout"
        }
      ]
    },
    {
      "cell_type": "code",
      "metadata": {
        "id": "EcUZ2A7S85_E",
        "colab_type": "code",
        "colab": {}
      },
      "source": [
        "#Demetler (Tuples)"
      ],
      "execution_count": 0,
      "outputs": []
    },
    {
      "cell_type": "code",
      "metadata": {
        "id": "PGe5yLBU-4JU",
        "colab_type": "code",
        "colab": {}
      },
      "source": [
        "sozluk = {(x, x +1): x for x in range(10)}"
      ],
      "execution_count": 0,
      "outputs": []
    },
    {
      "cell_type": "code",
      "metadata": {
        "id": "31Ygi87d_A0o",
        "colab_type": "code",
        "outputId": "406fe125-e592-43a9-d5e0-c5275207823c",
        "colab": {
          "base_uri": "https://localhost:8080/",
          "height": 185
        }
      },
      "source": [
        "sozluk"
      ],
      "execution_count": 0,
      "outputs": [
        {
          "output_type": "execute_result",
          "data": {
            "text/plain": [
              "{(0, 1): 0,\n",
              " (1, 2): 1,\n",
              " (2, 3): 2,\n",
              " (3, 4): 3,\n",
              " (4, 5): 4,\n",
              " (5, 6): 5,\n",
              " (6, 7): 6,\n",
              " (7, 8): 7,\n",
              " (8, 9): 8,\n",
              " (9, 10): 9}"
            ]
          },
          "metadata": {
            "tags": []
          },
          "execution_count": 23
        }
      ]
    },
    {
      "cell_type": "code",
      "metadata": {
        "id": "BZVEkocT_CCJ",
        "colab_type": "code",
        "colab": {}
      },
      "source": [
        "demet = (5,6)"
      ],
      "execution_count": 0,
      "outputs": []
    },
    {
      "cell_type": "code",
      "metadata": {
        "id": "0n28T29KAph5",
        "colab_type": "code",
        "outputId": "cf97e464-3254-495b-a943-a07a44e407e5",
        "colab": {
          "base_uri": "https://localhost:8080/",
          "height": 67
        }
      },
      "source": [
        "print(type(demet))\n",
        "print(sozluk[demet])\n",
        "print(sozluk[1,2])"
      ],
      "execution_count": 0,
      "outputs": [
        {
          "output_type": "stream",
          "text": [
            "<class 'tuple'>\n",
            "5\n",
            "1\n"
          ],
          "name": "stdout"
        }
      ]
    },
    {
      "cell_type": "code",
      "metadata": {
        "id": "vCFbIuWQAr9j",
        "colab_type": "code",
        "outputId": "cefe9d4b-abd8-4444-d508-0c4141dc23d9",
        "colab": {
          "base_uri": "https://localhost:8080/",
          "height": 34
        }
      },
      "source": [
        "print(demet[1])"
      ],
      "execution_count": 0,
      "outputs": [
        {
          "output_type": "stream",
          "text": [
            "6\n"
          ],
          "name": "stdout"
        }
      ]
    },
    {
      "cell_type": "code",
      "metadata": {
        "id": "t9LfecX4BHBl",
        "colab_type": "code",
        "outputId": "83d47dc8-69d2-4ea4-f2ac-b424a4222d34",
        "colab": {
          "base_uri": "https://localhost:8080/",
          "height": 34
        }
      },
      "source": [
        "print(demet[0])"
      ],
      "execution_count": 0,
      "outputs": [
        {
          "output_type": "stream",
          "text": [
            "5\n"
          ],
          "name": "stdout"
        }
      ]
    },
    {
      "cell_type": "code",
      "metadata": {
        "id": "drF6O0yoBIxa",
        "colab_type": "code",
        "colab": {}
      },
      "source": [
        "x = input()"
      ],
      "execution_count": 0,
      "outputs": []
    },
    {
      "cell_type": "code",
      "metadata": {
        "id": "ESdn5yrBBWsZ",
        "colab_type": "code",
        "outputId": "e7f83756-4f28-4809-a778-b9d5186edd74",
        "colab": {
          "base_uri": "https://localhost:8080/",
          "height": 34
        }
      },
      "source": [
        "x = int(input(\"Sayı girniz: \"))"
      ],
      "execution_count": 0,
      "outputs": [
        {
          "output_type": "stream",
          "text": [
            "Sayı girniz: 12\n"
          ],
          "name": "stdout"
        }
      ]
    },
    {
      "cell_type": "code",
      "metadata": {
        "id": "Nfs1c59xBtdy",
        "colab_type": "code",
        "outputId": "13f5f839-6fec-4d77-c107-e4aa374b2397",
        "colab": {
          "base_uri": "https://localhost:8080/",
          "height": 34
        }
      },
      "source": [
        "print(x)"
      ],
      "execution_count": 0,
      "outputs": [
        {
          "output_type": "stream",
          "text": [
            "12\n"
          ],
          "name": "stdout"
        }
      ]
    },
    {
      "cell_type": "code",
      "metadata": {
        "id": "XJfJ2UTTCQhX",
        "colab_type": "code",
        "colab": {}
      },
      "source": [
        "#Python ile Karşılaştırma Yapma"
      ],
      "execution_count": 0,
      "outputs": []
    },
    {
      "cell_type": "code",
      "metadata": {
        "id": "9VxkI0nfLF0n",
        "colab_type": "code",
        "outputId": "7ff43608-649b-4b1d-a437-7e85c55f6097",
        "colab": {
          "base_uri": "https://localhost:8080/",
          "height": 118
        }
      },
      "source": [
        "print(5>9)\n",
        "print(5<9)\n",
        "print(5>=9)\n",
        "print(5<=9)\n",
        "print(5==9)\n",
        "print(5!=9)"
      ],
      "execution_count": 0,
      "outputs": [
        {
          "output_type": "stream",
          "text": [
            "False\n",
            "True\n",
            "False\n",
            "True\n",
            "False\n",
            "True\n"
          ],
          "name": "stdout"
        }
      ]
    },
    {
      "cell_type": "code",
      "metadata": {
        "id": "a-cKDRMCLUpY",
        "colab_type": "code",
        "colab": {}
      },
      "source": [
        "#Python Koşullu Durumlar"
      ],
      "execution_count": 0,
      "outputs": []
    },
    {
      "cell_type": "code",
      "metadata": {
        "id": "9a8wgLajLcOd",
        "colab_type": "code",
        "colab": {}
      },
      "source": [
        "renk = \"yeşil\""
      ],
      "execution_count": 0,
      "outputs": []
    },
    {
      "cell_type": "code",
      "metadata": {
        "id": "xu33X1UhLh5n",
        "colab_type": "code",
        "outputId": "c18888db-1d90-4f28-da6e-93ccb4d83277",
        "colab": {
          "base_uri": "https://localhost:8080/",
          "height": 34
        }
      },
      "source": [
        "if renk == \"yeşil\":\n",
        "  print(\"Geçebilirsiniz.\")\n",
        "else:\n",
        "  print(\"Geçemezsiniz.\")"
      ],
      "execution_count": 0,
      "outputs": [
        {
          "output_type": "stream",
          "text": [
            "Geçebilirsiniz.\n"
          ],
          "name": "stdout"
        }
      ]
    },
    {
      "cell_type": "code",
      "metadata": {
        "id": "4Jv5mzUBLqPl",
        "colab_type": "code",
        "colab": {}
      },
      "source": [
        "#Python ile Mantıksal İşlemler (adn-or-not-xor)"
      ],
      "execution_count": 0,
      "outputs": []
    },
    {
      "cell_type": "code",
      "metadata": {
        "id": "NP39ie__N1lC",
        "colab_type": "code",
        "outputId": "af6cf66b-57ca-482f-ec6d-058fdc505834",
        "colab": {
          "base_uri": "https://localhost:8080/",
          "height": 84
        }
      },
      "source": [
        "print(5 > 9 and 4 < 7)\n",
        "print(5 < 9 or 4 < 7)\n",
        "print(not 5 >= 9)\n",
        "print(#5 <=9 != 4 < 7)"
      ],
      "execution_count": 0,
      "outputs": [
        {
          "output_type": "stream",
          "text": [
            "False\n",
            "True\n",
            "True\n",
            "True\n"
          ],
          "name": "stdout"
        }
      ]
    },
    {
      "cell_type": "code",
      "metadata": {
        "id": "ebb55TtgOKez",
        "colab_type": "code",
        "colab": {}
      },
      "source": [
        "#While Döngüsü"
      ],
      "execution_count": 0,
      "outputs": []
    },
    {
      "cell_type": "code",
      "metadata": {
        "id": "YiiFWXndQMGa",
        "colab_type": "code",
        "colab": {}
      },
      "source": [
        "i = 0 \n"
      ],
      "execution_count": 0,
      "outputs": []
    },
    {
      "cell_type": "code",
      "metadata": {
        "id": "mSxBOzncQN5X",
        "colab_type": "code",
        "outputId": "bdbd7f6f-92db-4a27-c719-60a0d829c929",
        "colab": {
          "base_uri": "https://localhost:8080/",
          "height": 202
        }
      },
      "source": [
        "while i<=10:\n",
        "  print(i)\n",
        "  i += 1"
      ],
      "execution_count": 0,
      "outputs": [
        {
          "output_type": "stream",
          "text": [
            "0\n",
            "1\n",
            "2\n",
            "3\n",
            "4\n",
            "5\n",
            "6\n",
            "7\n",
            "8\n",
            "9\n",
            "10\n"
          ],
          "name": "stdout"
        }
      ]
    },
    {
      "cell_type": "code",
      "metadata": {
        "id": "4DgNYvdXQTqq",
        "colab_type": "code",
        "outputId": "c1321c84-202a-4a13-cd12-dddebd2d84d9",
        "colab": {
          "base_uri": "https://localhost:8080/",
          "height": 34
        }
      },
      "source": [
        "while True:\n",
        "  girdi = input(\"Lütfen kutucuğa 'Alan Turing' yazınız: \")\n",
        "  if girdi == \"Alan Turing\":\n",
        "    break"
      ],
      "execution_count": 0,
      "outputs": [
        {
          "output_type": "stream",
          "text": [
            "Lütfen kutucuğa 'Alan Turing' yazınız: Alan Turing\n"
          ],
          "name": "stdout"
        }
      ]
    },
    {
      "cell_type": "code",
      "metadata": {
        "id": "uZVbYq9rRjiP",
        "colab_type": "code",
        "outputId": "fd890d6d-2660-4442-813f-4c6c17b59b84",
        "colab": {
          "base_uri": "https://localhost:8080/",
          "height": 118
        }
      },
      "source": [
        "liste = [5, 6, 7]\n",
        "\n",
        "for sayi in range(1,10):\n",
        "  if sayi in liste:\n",
        "    continue\n",
        "  print(sayi)"
      ],
      "execution_count": 0,
      "outputs": [
        {
          "output_type": "stream",
          "text": [
            "1\n",
            "2\n",
            "3\n",
            "4\n",
            "8\n",
            "9\n"
          ],
          "name": "stdout"
        }
      ]
    },
    {
      "cell_type": "code",
      "metadata": {
        "id": "mQVYpJWxSP2n",
        "colab_type": "code",
        "colab": {}
      },
      "source": [
        "metin = \"Python ile Yapay Zeka\""
      ],
      "execution_count": 0,
      "outputs": []
    },
    {
      "cell_type": "code",
      "metadata": {
        "id": "zZbUlIXWTQpY",
        "colab_type": "code",
        "outputId": "33456463-a424-4f5b-82f7-3f9aaebb237a",
        "colab": {
          "base_uri": "https://localhost:8080/",
          "height": 370
        }
      },
      "source": [
        "for i in metin:\n",
        "  print(i)"
      ],
      "execution_count": 0,
      "outputs": [
        {
          "output_type": "stream",
          "text": [
            "P\n",
            "y\n",
            "t\n",
            "h\n",
            "o\n",
            "n\n",
            " \n",
            "i\n",
            "l\n",
            "e\n",
            " \n",
            "Y\n",
            "a\n",
            "p\n",
            "a\n",
            "y\n",
            " \n",
            "Z\n",
            "e\n",
            "k\n",
            "a\n"
          ],
          "name": "stdout"
        }
      ]
    },
    {
      "cell_type": "code",
      "metadata": {
        "id": "SgjGkXLSTTcx",
        "colab_type": "code",
        "colab": {}
      },
      "source": [
        "renkler = [\"Kırmızı\", \"Yeşil\", \"Mavi\"]"
      ],
      "execution_count": 0,
      "outputs": []
    },
    {
      "cell_type": "code",
      "metadata": {
        "id": "kRgu6_4fTbOK",
        "colab_type": "code",
        "outputId": "f52bd167-739b-4d76-81e2-94c3392e702e",
        "colab": {
          "base_uri": "https://localhost:8080/",
          "height": 34
        }
      },
      "source": [
        "for i in renkler:\n",
        "  print(i, end = \" \")"
      ],
      "execution_count": 0,
      "outputs": [
        {
          "output_type": "stream",
          "text": [
            "Kırmızı Yeşil Mavi "
          ],
          "name": "stdout"
        }
      ]
    },
    {
      "cell_type": "code",
      "metadata": {
        "id": "2idaKOrATf9Y",
        "colab_type": "code",
        "colab": {}
      },
      "source": [
        "liste = [1, 5, 3, 4, 5]\n",
        "\n",
        "toplam = 0 \n",
        "\n",
        "i = 0\n"
      ],
      "execution_count": 0,
      "outputs": []
    },
    {
      "cell_type": "code",
      "metadata": {
        "id": "FMcfRNFfVRkX",
        "colab_type": "code",
        "outputId": "a3cab8c8-fbca-486f-d9f9-fad3eae68424",
        "colab": {
          "base_uri": "https://localhost:8080/",
          "height": 34
        }
      },
      "source": [
        "while i < len(liste):\n",
        "  toplam = toplam+ liste[i]\n",
        "  \n",
        "  i+=1\n",
        "print(toplam)"
      ],
      "execution_count": 0,
      "outputs": [
        {
          "output_type": "stream",
          "text": [
            "18\n"
          ],
          "name": "stdout"
        }
      ]
    },
    {
      "cell_type": "code",
      "metadata": {
        "id": "CRmKpfK0VqeI",
        "colab_type": "code",
        "outputId": "3ca4d2a6-a7a1-49be-8dd6-37a97bb74717",
        "colab": {
          "base_uri": "https://localhost:8080/",
          "height": 34
        }
      },
      "source": [
        "def kare(x):\n",
        "  sonuc = x ** 2\n",
        "  return sonuc\n",
        "\n",
        "print(kare(5))"
      ],
      "execution_count": 0,
      "outputs": [
        {
          "output_type": "stream",
          "text": [
            "25\n"
          ],
          "name": "stdout"
        }
      ]
    },
    {
      "cell_type": "code",
      "metadata": {
        "id": "bTDLXtE1pKWh",
        "colab_type": "code",
        "colab": {}
      },
      "source": [
        "def kare(x):\n",
        "  \n",
        "  if x == 5:\n",
        "    print(\"5 girdiğiniz için fonksiyon sonlandırıldı.\")\n",
        "    return\n",
        "  \n",
        "  sonuc = x ** 2\n",
        "  return sonuc"
      ],
      "execution_count": 0,
      "outputs": []
    },
    {
      "cell_type": "code",
      "metadata": {
        "id": "b5HEa-HipkfV",
        "colab_type": "code",
        "outputId": "25538c03-5204-4676-c225-44246d6c6ee7",
        "colab": {
          "base_uri": "https://localhost:8080/",
          "height": 34
        }
      },
      "source": [
        "kare(5)"
      ],
      "execution_count": 0,
      "outputs": [
        {
          "output_type": "stream",
          "text": [
            "5 girdiğiniz için fonksiyon sonlandırıldı.\n"
          ],
          "name": "stdout"
        }
      ]
    },
    {
      "cell_type": "code",
      "metadata": {
        "id": "AgHgi962pmLo",
        "colab_type": "code",
        "outputId": "7cb46aa5-478a-487b-8bea-7c59acb54294",
        "colab": {
          "base_uri": "https://localhost:8080/",
          "height": 34
        }
      },
      "source": [
        "kare(3)"
      ],
      "execution_count": 0,
      "outputs": [
        {
          "output_type": "execute_result",
          "data": {
            "text/plain": [
              "9"
            ]
          },
          "metadata": {
            "tags": []
          },
          "execution_count": 34
        }
      ]
    },
    {
      "cell_type": "code",
      "metadata": {
        "id": "AON_yTudpntC",
        "colab_type": "code",
        "outputId": "4d0afabf-2722-4d98-d6d9-e7f66be1a396",
        "colab": {
          "base_uri": "https://localhost:8080/",
          "height": 34
        }
      },
      "source": [
        "def dortislem(x, y):\n",
        "  toplam = x + y\n",
        "  fark = x - y\n",
        "  çarpım = x * y\n",
        "  bölüm = x / y\n",
        "  \n",
        "  return  toplam, fark, çarpım, bölüm\n",
        "\n",
        "a,b,c,d = dortislem(5,6)\n",
        "\n",
        "print(a)"
      ],
      "execution_count": 0,
      "outputs": [
        {
          "output_type": "stream",
          "text": [
            "11\n"
          ],
          "name": "stdout"
        }
      ]
    },
    {
      "cell_type": "code",
      "metadata": {
        "id": "VBxmKAiIqZBm",
        "colab_type": "code",
        "outputId": "d2a2a903-33f5-47c7-fc0d-091d5e7b03db",
        "colab": {
          "base_uri": "https://localhost:8080/",
          "height": 34
        }
      },
      "source": [
        "type(a)"
      ],
      "execution_count": 0,
      "outputs": [
        {
          "output_type": "execute_result",
          "data": {
            "text/plain": [
              "int"
            ]
          },
          "metadata": {
            "tags": []
          },
          "execution_count": 43
        }
      ]
    },
    {
      "cell_type": "code",
      "metadata": {
        "id": "TUD7LLg0rVkJ",
        "colab_type": "code",
        "outputId": "58405c86-843b-4d5c-eb60-990256e38ef8",
        "colab": {
          "base_uri": "https://localhost:8080/",
          "height": 67
        }
      },
      "source": [
        "def isaret(x):\n",
        "  if x>0:\n",
        "    return 'pozitif'\n",
        "  elif x<0:\n",
        "    return 'negatif'\n",
        "  else:\n",
        "    return 'sifir'\n",
        "  \n",
        "for x in [-1, 0, 1]:\n",
        "  print (isaret(x))"
      ],
      "execution_count": 0,
      "outputs": [
        {
          "output_type": "stream",
          "text": [
            "negatif\n",
            "sifir\n",
            "pozitif\n"
          ],
          "name": "stdout"
        }
      ]
    },
    {
      "cell_type": "code",
      "metadata": {
        "id": "5sCNyGbfsrfZ",
        "colab_type": "code",
        "outputId": "c6cfe9e1-79d6-4e5d-9af4-d1c2e6e5a31d",
        "colab": {
          "base_uri": "https://localhost:8080/",
          "height": 67
        }
      },
      "source": [
        "kilo = int(input(\"Lütfen kilonuzu giriniz(kg): \"))\n",
        "boy = int(input(\"Lütfen boyunuzu giriniz(cm): \"))\n",
        "boy = boy/100\n",
        "\n",
        "def indeks(kilo, boy):\n",
        "  indeks = kilo / boy **2\n",
        "  return indeks\n",
        "  \n",
        "print(indeks(kilo,boy))"
      ],
      "execution_count": 0,
      "outputs": [
        {
          "output_type": "stream",
          "text": [
            "Lütfen kilonuzu giriniz(kg): 88\n",
            "Lütfen boyunuzu giriniz(cm): 183\n",
            "26.27728507868255\n"
          ],
          "name": "stdout"
        }
      ]
    },
    {
      "cell_type": "code",
      "metadata": {
        "id": "tmT-u2zd0Mc6",
        "colab_type": "code",
        "outputId": "cca43751-ab9b-4e1c-94a4-a20953e13cdb",
        "colab": {
          "base_uri": "https://localhost:8080/",
          "height": 134
        }
      },
      "source": [
        "while True:\n",
        "  veri = input(\"Çıkmak için 'q': \")\n",
        "  if veri == 'q':\n",
        "    break\n",
        "    \n",
        "  else:\n",
        "    kiloboy = veri.split()\n",
        "    kilo = int(kiloboy[0])\n",
        "    boy = int(kiloboy[1])/100\n",
        "    \n",
        "    print(indeks(kilo,boy))"
      ],
      "execution_count": 0,
      "outputs": [
        {
          "output_type": "stream",
          "text": [
            "Çıkmak için 'q': 100 50\n",
            "400.0\n",
            "Çıkmak için 'q': 50 100\n",
            "50.0\n",
            "Çıkmak için 'q': 30 60\n",
            "83.33333333333334\n",
            "Çıkmak için 'q': q\n"
          ],
          "name": "stdout"
        }
      ]
    },
    {
      "cell_type": "code",
      "metadata": {
        "id": "MZHRJt2L0Z8d",
        "colab_type": "code",
        "colab": {}
      },
      "source": [
        "def merhaba(isim, buyukHarf = False):\n",
        "  if buyukHarf:\n",
        "    print ('MERHABA, %s' % isim.upper())\n",
        "  else:\n",
        "    print('merhaba, %s' % isim.upper())"
      ],
      "execution_count": 0,
      "outputs": []
    },
    {
      "cell_type": "code",
      "metadata": {
        "id": "09UeK1eq70vx",
        "colab_type": "code",
        "colab": {}
      },
      "source": [
        "def carp(*args):\n",
        "  sonuc = 1\n",
        "  for sayi in args:\n",
        "    sonuc *= sayi\n",
        "  print(sonuc)"
      ],
      "execution_count": 0,
      "outputs": []
    },
    {
      "cell_type": "code",
      "metadata": {
        "id": "k106RjJI8C1Y",
        "colab_type": "code",
        "outputId": "0c42d3b6-d5c6-4acb-d843-a4ba04f5f1bf",
        "colab": {
          "base_uri": "https://localhost:8080/",
          "height": 34
        }
      },
      "source": [
        "carp(4,1)"
      ],
      "execution_count": 0,
      "outputs": [
        {
          "output_type": "stream",
          "text": [
            "4\n"
          ],
          "name": "stdout"
        }
      ]
    },
    {
      "cell_type": "code",
      "metadata": {
        "id": "9fmb4PlB8ElC",
        "colab_type": "code",
        "outputId": "496f7fd9-e88e-44cb-f2c9-3a6c8dd95c44",
        "colab": {
          "base_uri": "https://localhost:8080/",
          "height": 34
        }
      },
      "source": [
        "carp(3,4,5)"
      ],
      "execution_count": 0,
      "outputs": [
        {
          "output_type": "stream",
          "text": [
            "60\n"
          ],
          "name": "stdout"
        }
      ]
    },
    {
      "cell_type": "code",
      "metadata": {
        "id": "1WFjoxBZ8Gl7",
        "colab_type": "code",
        "outputId": "37585c07-8b41-45dd-ef7c-22273cf65b01",
        "colab": {
          "base_uri": "https://localhost:8080/",
          "height": 34
        }
      },
      "source": [
        "carp(3, 4, 5, 0)"
      ],
      "execution_count": 0,
      "outputs": [
        {
          "output_type": "stream",
          "text": [
            "0\n"
          ],
          "name": "stdout"
        }
      ]
    },
    {
      "cell_type": "code",
      "metadata": {
        "id": "owReDxcr8SEA",
        "colab_type": "code",
        "colab": {}
      },
      "source": [
        "\"\"\"Fonksiyonar (Recursive)\"\"\"\n",
        "\n",
        "liste = [1,2,4,5,7]"
      ],
      "execution_count": 0,
      "outputs": []
    },
    {
      "cell_type": "code",
      "metadata": {
        "id": "Ywe-W_dr8ZFt",
        "colab_type": "code",
        "colab": {}
      },
      "source": [
        "def topla(liste):\n",
        "  if len(liste) == 0:\n",
        "    return 0\n",
        "  \n",
        "  toplam = liste[0] + topla(liste[1:])\n",
        "  return toplam"
      ],
      "execution_count": 0,
      "outputs": []
    },
    {
      "cell_type": "code",
      "metadata": {
        "id": "ebFhvZZS8oOd",
        "colab_type": "code",
        "outputId": "376a796e-49fd-47ab-c27c-582c413b6da7",
        "colab": {
          "base_uri": "https://localhost:8080/",
          "height": 34
        }
      },
      "source": [
        "topla(liste)"
      ],
      "execution_count": 0,
      "outputs": [
        {
          "output_type": "execute_result",
          "data": {
            "text/plain": [
              "19"
            ]
          },
          "metadata": {
            "tags": []
          },
          "execution_count": 84
        }
      ]
    },
    {
      "cell_type": "code",
      "metadata": {
        "id": "sitbvmO98prj",
        "colab_type": "code",
        "colab": {}
      },
      "source": [
        "\"\"\"Fonsiyonlar (Lambda)\"\"\"\n",
        "\n",
        "cevre = lambda r, pi : (2 * pi * r)"
      ],
      "execution_count": 0,
      "outputs": []
    },
    {
      "cell_type": "code",
      "metadata": {
        "id": "zVUdJhos9099",
        "colab_type": "code",
        "outputId": "6bcf54c1-03c4-4931-96be-b5038331c6ea",
        "colab": {
          "base_uri": "https://localhost:8080/",
          "height": 34
        }
      },
      "source": [
        "cevre(5,3.14)"
      ],
      "execution_count": 0,
      "outputs": [
        {
          "output_type": "execute_result",
          "data": {
            "text/plain": [
              "31.400000000000002"
            ]
          },
          "metadata": {
            "tags": []
          },
          "execution_count": 89
        }
      ]
    },
    {
      "cell_type": "code",
      "metadata": {
        "id": "MJyso22y93o3",
        "colab_type": "code",
        "outputId": "3790c358-00a0-4a1d-9ceb-078913ef2243",
        "colab": {
          "base_uri": "https://localhost:8080/",
          "height": 34
        }
      },
      "source": [
        "\"\"\"Fonksiyonlar (Golbal ve Yerel Değişkenler)\"\"\""
      ],
      "execution_count": 0,
      "outputs": [
        {
          "output_type": "execute_result",
          "data": {
            "text/plain": [
              "'Fonksiyonlar (Golbal ve Yerel Değişkenler)'"
            ]
          },
          "metadata": {
            "tags": []
          },
          "execution_count": 90
        }
      ]
    },
    {
      "cell_type": "code",
      "metadata": {
        "id": "YQe2gUJz-VSG",
        "colab_type": "code",
        "colab": {}
      },
      "source": [
        "x = 5"
      ],
      "execution_count": 0,
      "outputs": []
    },
    {
      "cell_type": "code",
      "metadata": {
        "id": "OWHq_xZ6-WJj",
        "colab_type": "code",
        "colab": {}
      },
      "source": [
        "def yazdir():\n",
        "  x=4\n",
        "  print(x)"
      ],
      "execution_count": 0,
      "outputs": []
    },
    {
      "cell_type": "code",
      "metadata": {
        "id": "L0-MZ6Ux-bZk",
        "colab_type": "code",
        "outputId": "6b821f98-5541-40b8-d567-b1f27cc8f57d",
        "colab": {
          "base_uri": "https://localhost:8080/",
          "height": 50
        }
      },
      "source": [
        "yazdir()\n",
        "print(x)"
      ],
      "execution_count": 0,
      "outputs": [
        {
          "output_type": "stream",
          "text": [
            "4\n",
            "5\n"
          ],
          "name": "stdout"
        }
      ]
    },
    {
      "cell_type": "code",
      "metadata": {
        "id": "BIOcwvTv-eOw",
        "colab_type": "code",
        "outputId": "77e36cb5-442c-4bbe-c8e6-a3a7efd5e5bd",
        "colab": {
          "base_uri": "https://localhost:8080/",
          "height": 50
        }
      },
      "source": [
        "print(1,2,3, sep =\"/\")\n",
        "\n",
        "isim = \"tuğçe\"\n",
        "soyisim = \"büyük\"\n",
        "\n",
        "print(\"soyad: {1} ad: {0}\".format(isim, soyisim))\n"
      ],
      "execution_count": 0,
      "outputs": [
        {
          "output_type": "stream",
          "text": [
            "1/2/3\n",
            "soyad: büyük ad: tuğçe\n"
          ],
          "name": "stdout"
        }
      ]
    },
    {
      "cell_type": "code",
      "metadata": {
        "id": "jZ4rKl3y_RlA",
        "colab_type": "code",
        "colab": {}
      },
      "source": [
        "#Modüller"
      ],
      "execution_count": 0,
      "outputs": []
    },
    {
      "cell_type": "code",
      "metadata": {
        "id": "B-CUccIC_VJg",
        "colab_type": "code",
        "colab": {}
      },
      "source": [
        "x = \"Yann LeCun\""
      ],
      "execution_count": 0,
      "outputs": []
    },
    {
      "cell_type": "code",
      "metadata": {
        "id": "DTL50-9RDLKV",
        "colab_type": "code",
        "outputId": "5b617fbc-59a0-47eb-c5ea-44e31b00eb51",
        "colab": {
          "base_uri": "https://localhost:8080/",
          "height": 162
        }
      },
      "source": [
        "int(x)"
      ],
      "execution_count": 0,
      "outputs": [
        {
          "output_type": "error",
          "ename": "ValueError",
          "evalue": "ignored",
          "traceback": [
            "\u001b[0;31m---------------------------------------------------------------------------\u001b[0m",
            "\u001b[0;31mValueError\u001b[0m                                Traceback (most recent call last)",
            "\u001b[0;32m<ipython-input-101-acaae37f5ab0>\u001b[0m in \u001b[0;36m<module>\u001b[0;34m()\u001b[0m\n\u001b[0;32m----> 1\u001b[0;31m \u001b[0mint\u001b[0m\u001b[0;34m(\u001b[0m\u001b[0mx\u001b[0m\u001b[0;34m)\u001b[0m\u001b[0;34m\u001b[0m\u001b[0;34m\u001b[0m\u001b[0m\n\u001b[0m",
            "\u001b[0;31mValueError\u001b[0m: invalid literal for int() with base 10: 'Yann LeCun'"
          ]
        }
      ]
    },
    {
      "cell_type": "code",
      "metadata": {
        "id": "PiRq7fu2DMWz",
        "colab_type": "code",
        "outputId": "ea8a19eb-46ab-4a2a-a66d-a607c76cf4a7",
        "colab": {
          "base_uri": "https://localhost:8080/",
          "height": 313
        }
      },
      "source": [
        "def kareal(x):\n",
        "  if isinstance(x, str):\n",
        "    raise ValueError(\"Lütfen sayı giriniz.\")\n",
        "    \n",
        "  return x**2\n",
        "\n",
        "kareal(\"adas\")"
      ],
      "execution_count": 0,
      "outputs": [
        {
          "output_type": "error",
          "ename": "ValueError",
          "evalue": "ignored",
          "traceback": [
            "\u001b[0;31m---------------------------------------------------------------------------\u001b[0m",
            "\u001b[0;31mValueError\u001b[0m                                Traceback (most recent call last)",
            "\u001b[0;32m<ipython-input-102-7af3094dd2d3>\u001b[0m in \u001b[0;36m<module>\u001b[0;34m()\u001b[0m\n\u001b[1;32m      5\u001b[0m   \u001b[0;32mreturn\u001b[0m \u001b[0mx\u001b[0m\u001b[0;34m**\u001b[0m\u001b[0;36m2\u001b[0m\u001b[0;34m\u001b[0m\u001b[0;34m\u001b[0m\u001b[0m\n\u001b[1;32m      6\u001b[0m \u001b[0;34m\u001b[0m\u001b[0m\n\u001b[0;32m----> 7\u001b[0;31m \u001b[0mkareal\u001b[0m\u001b[0;34m(\u001b[0m\u001b[0;34m\"adas\"\u001b[0m\u001b[0;34m)\u001b[0m\u001b[0;34m\u001b[0m\u001b[0;34m\u001b[0m\u001b[0m\n\u001b[0m",
            "\u001b[0;32m<ipython-input-102-7af3094dd2d3>\u001b[0m in \u001b[0;36mkareal\u001b[0;34m(x)\u001b[0m\n\u001b[1;32m      1\u001b[0m \u001b[0;32mdef\u001b[0m \u001b[0mkareal\u001b[0m\u001b[0;34m(\u001b[0m\u001b[0mx\u001b[0m\u001b[0;34m)\u001b[0m\u001b[0;34m:\u001b[0m\u001b[0;34m\u001b[0m\u001b[0;34m\u001b[0m\u001b[0m\n\u001b[1;32m      2\u001b[0m   \u001b[0;32mif\u001b[0m \u001b[0misinstance\u001b[0m\u001b[0;34m(\u001b[0m\u001b[0mx\u001b[0m\u001b[0;34m,\u001b[0m \u001b[0mstr\u001b[0m\u001b[0;34m)\u001b[0m\u001b[0;34m:\u001b[0m\u001b[0;34m\u001b[0m\u001b[0;34m\u001b[0m\u001b[0m\n\u001b[0;32m----> 3\u001b[0;31m     \u001b[0;32mraise\u001b[0m \u001b[0mValueError\u001b[0m\u001b[0;34m(\u001b[0m\u001b[0;34m\"Lütfen sayı giriniz.\"\u001b[0m\u001b[0;34m)\u001b[0m\u001b[0;34m\u001b[0m\u001b[0;34m\u001b[0m\u001b[0m\n\u001b[0m\u001b[1;32m      4\u001b[0m \u001b[0;34m\u001b[0m\u001b[0m\n\u001b[1;32m      5\u001b[0m   \u001b[0;32mreturn\u001b[0m \u001b[0mx\u001b[0m\u001b[0;34m**\u001b[0m\u001b[0;36m2\u001b[0m\u001b[0;34m\u001b[0m\u001b[0;34m\u001b[0m\u001b[0m\n",
            "\u001b[0;31mValueError\u001b[0m: Lütfen sayı giriniz."
          ]
        }
      ]
    },
    {
      "cell_type": "code",
      "metadata": {
        "id": "KGr70pVnFOol",
        "colab_type": "code",
        "outputId": "6ee014d4-bfdd-467f-be81-ab60d8248598",
        "colab": {
          "base_uri": "https://localhost:8080/",
          "height": 34
        }
      },
      "source": [
        "\"\"\"Sınıflar(Classes)\"\"\"\n"
      ],
      "execution_count": 0,
      "outputs": [
        {
          "output_type": "execute_result",
          "data": {
            "text/plain": [
              "'Sınıflar(Classes)'"
            ]
          },
          "metadata": {
            "tags": []
          },
          "execution_count": 103
        }
      ]
    },
    {
      "cell_type": "code",
      "metadata": {
        "id": "wjZgh2EuFYMo",
        "colab_type": "code",
        "colab": {}
      },
      "source": [
        "class iha:\n",
        "  yakit_durumu = 100\n",
        "  \n",
        "  def yakit_azalt(self):\n",
        "    self.yakit_durumu -= 1\n",
        "    \n",
        "  def yakit_bildir(self):\n",
        "    print(self.yakit_durum)"
      ],
      "execution_count": 0,
      "outputs": []
    },
    {
      "cell_type": "code",
      "metadata": {
        "id": "rMprxMmtFnRy",
        "colab_type": "code",
        "colab": {}
      },
      "source": [
        "kartal = iha()\n",
        "serce = iha()\n",
        "karga = iha()"
      ],
      "execution_count": 0,
      "outputs": []
    },
    {
      "cell_type": "code",
      "metadata": {
        "id": "q0ANBPDyGASx",
        "colab_type": "code",
        "outputId": "251bff78-56ed-445c-9647-b9507d8a510e",
        "colab": {
          "base_uri": "https://localhost:8080/",
          "height": 34
        }
      },
      "source": [
        "print(kartal)"
      ],
      "execution_count": 0,
      "outputs": [
        {
          "output_type": "stream",
          "text": [
            "<__main__.iha object at 0x7fbacc6fccf8>\n"
          ],
          "name": "stdout"
        }
      ]
    },
    {
      "cell_type": "code",
      "metadata": {
        "id": "jbF0t9jzGl70",
        "colab_type": "code",
        "colab": {}
      },
      "source": [
        "class iha:\n",
        "  \n",
        "  def __init__(self, yakit_durumu, uzaklık, irtifa):\n",
        "    self.yakit_durumu = yakit_durumu\n",
        "    self.uzaklık = uzaklık\n",
        "    self.irtifa = irtifa\n",
        "    \n",
        "  def yakit_azalt(self):\n",
        "    self.yakit_durumu -= 1\n",
        "    \n",
        "  def yakit_bildir(self):\n",
        "    print(self.yakit_durumu)\n",
        "    \n",
        "  def durum_bildir(self):\n",
        "    print(\"Yakıt: {}\\nUzaklık: {}\\nİrtifa: {}\\n\".format(self.yakit_durumu, self.uzaklık, self.irtifa))"
      ],
      "execution_count": 0,
      "outputs": []
    },
    {
      "cell_type": "code",
      "metadata": {
        "id": "DLuGhk5kHn3X",
        "colab_type": "code",
        "colab": {}
      },
      "source": [
        "\n",
        "serce = iha(100,200,300)\n"
      ],
      "execution_count": 0,
      "outputs": []
    },
    {
      "cell_type": "code",
      "metadata": {
        "id": "Wi5S0yRWHu8y",
        "colab_type": "code",
        "outputId": "6ef8497a-27d2-4438-c50d-b7daa0aeef4b",
        "colab": {
          "base_uri": "https://localhost:8080/",
          "height": 34
        }
      },
      "source": [
        "serce.yakit_bildir()"
      ],
      "execution_count": 0,
      "outputs": [
        {
          "output_type": "stream",
          "text": [
            "100\n"
          ],
          "name": "stdout"
        }
      ]
    },
    {
      "cell_type": "code",
      "metadata": {
        "id": "awz2O5sBKARI",
        "colab_type": "code",
        "colab": {}
      },
      "source": [
        "#hackerrank.com\n",
        "#yazbel.com\n",
        "#nbviewer.jupyter.org\n"
      ],
      "execution_count": 0,
      "outputs": []
    }
  ]
}