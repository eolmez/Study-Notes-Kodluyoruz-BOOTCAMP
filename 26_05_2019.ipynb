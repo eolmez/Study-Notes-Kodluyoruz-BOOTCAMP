{
  "nbformat": 4,
  "nbformat_minor": 0,
  "metadata": {
    "colab": {
      "name": "26/05/2019.ipynb",
      "version": "0.3.2",
      "provenance": [],
      "collapsed_sections": [],
      "include_colab_link": true
    },
    "kernelspec": {
      "name": "python3",
      "display_name": "Python 3"
    }
  },
  "cells": [
    {
      "cell_type": "markdown",
      "metadata": {
        "id": "view-in-github",
        "colab_type": "text"
      },
      "source": [
        "<a href=\"https://colab.research.google.com/github/eolmez91/Study-Notes-Kodluyoruz-BOOTCAMP/blob/master/26_05_2019.ipynb\" target=\"_parent\"><img src=\"https://colab.research.google.com/assets/colab-badge.svg\" alt=\"Open In Colab\"/></a>"
      ]
    },
    {
      "cell_type": "code",
      "metadata": {
        "id": "Ao3yWTbyNaWZ",
        "colab_type": "code",
        "colab": {}
      },
      "source": [
        "# HackerRank çok öenmli\n",
        "# DataSet Projesi çok öenmli Github' da paylaşılacak\n",
        "# Neural Network Github'da paylaşılacak\n",
        "# WorkShop Paylaşılacak"
      ],
      "execution_count": 0,
      "outputs": []
    },
    {
      "cell_type": "code",
      "metadata": {
        "id": "Zy75ZJ67YaCf",
        "colab_type": "code",
        "colab": {}
      },
      "source": [
        "# Veri bilimi algoritma uygulamaktan ibaret değildir!!!\n",
        "# Gördüğün herşeyi yorumlamaya çalış\n",
        "# Iris datasetine iyi çalış\n",
        "# Yorumlama "
      ],
      "execution_count": 0,
      "outputs": []
    },
    {
      "cell_type": "code",
      "metadata": {
        "id": "Ts2xbH6zMDVz",
        "colab_type": "code",
        "colab": {}
      },
      "source": [
        ""
      ],
      "execution_count": 0,
      "outputs": []
    }
  ]
}